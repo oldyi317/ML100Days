{
 "cells": [
  {
   "cell_type": "code",
   "execution_count": 1,
   "source": [
    "from nltk.stem import WordNetLemmatizer \r\n",
    "from nltk.stem.porter import PorterStemmer\r\n",
    "import nltk\r\n",
    "#nltk.download('wordnet')\r\n",
    "## 創建stemmer\r\n",
    "ps=PorterStemmer()\r\n",
    "\r\n",
    "## 創建Lemmatizer\r\n",
    "lemmatizer = WordNetLemmatizer() "
   ],
   "outputs": [],
   "metadata": {}
  },
  {
   "cell_type": "markdown",
   "source": [
    "### example"
   ],
   "metadata": {}
  },
  {
   "cell_type": "code",
   "execution_count": 2,
   "source": [
    "print('Stemming amusing : {}'.format(ps.stem('amusing')))\r\n",
    "print('lemmatization amusing : {}'.format(lemmatizer.lemmatize('amusing',pos = 'v')))"
   ],
   "outputs": [
    {
     "output_type": "stream",
     "name": "stdout",
     "text": [
      "Stemming amusing : amus\n",
      "lemmatization amusing : amuse\n"
     ]
    }
   ],
   "metadata": {}
  },
  {
   "cell_type": "markdown",
   "source": [
    "### 運用tokenize技巧結合stemming提取每個單詞的詞幹"
   ],
   "metadata": {}
  },
  {
   "cell_type": "code",
   "execution_count": 3,
   "source": [
    "# Define the sentence to be lemmatized\r\n",
    "sentence = \"The striped bats are hanging on their feet for best\"\r\n",
    "\r\n",
    "# Tokenize: Split the sentence into words\r\n",
    "word_list = nltk.word_tokenize(sentence)\r\n",
    "print(word_list)\r\n",
    "#> ['The', 'striped', 'bats', 'are', 'hanging', 'on', 'their', 'feet', 'for', 'best']\r\n",
    "\r\n",
    "stemming_output = ' '.join([ps.stem(w) for w in word_list])\r\n",
    "print(stemming_output)\r\n",
    "#> The striped bat are hanging on their foot for best"
   ],
   "outputs": [
    {
     "output_type": "stream",
     "name": "stdout",
     "text": [
      "['The', 'striped', 'bats', 'are', 'hanging', 'on', 'their', 'feet', 'for', 'best']\n",
      "the stripe bat are hang on their feet for best\n"
     ]
    }
   ],
   "metadata": {}
  },
  {
   "cell_type": "markdown",
   "source": [
    "### 運用tokenize技巧結合lemmatize提取每個單詞的lemma"
   ],
   "metadata": {}
  },
  {
   "cell_type": "code",
   "execution_count": 4,
   "source": [
    "# Define the sentence to be lemmatized\r\n",
    "sentence = \"The striped bats are hanging on their feet for best\"\r\n",
    "\r\n",
    "# Tokenize: Split the sentence into words\r\n",
    "word_list = nltk.word_tokenize(sentence)\r\n",
    "print(word_list)\r\n",
    "#> ['The', 'striped', 'bats', 'are', 'hanging', 'on', 'their', 'feet', 'for', 'best']\r\n",
    "\r\n",
    "# Lemmatize list of words and join\r\n",
    "lemmatized_output = ' '.join([lemmatizer.lemmatize(w) for w in word_list])\r\n",
    "print(lemmatized_output)\r\n",
    "#> The striped bat are hanging on their foot for best"
   ],
   "outputs": [
    {
     "output_type": "stream",
     "name": "stdout",
     "text": [
      "['The', 'striped', 'bats', 'are', 'hanging', 'on', 'their', 'feet', 'for', 'best']\n",
      "The striped bat are hanging on their foot for best\n"
     ]
    }
   ],
   "metadata": {}
  },
  {
   "cell_type": "markdown",
   "source": [
    "### 有時單詞的lemma會隨著詞性而有所改變"
   ],
   "metadata": {}
  },
  {
   "cell_type": "code",
   "execution_count": 5,
   "source": [
    "print('lemmatization amusing : {}'.format(lemmatizer.lemmatize('amusing',pos = 'v'))) ##動詞\r\n",
    "print('lemmatization amusing : {}'.format(lemmatizer.lemmatize('amusing',pos = 'a'))) ##形容詞"
   ],
   "outputs": [
    {
     "output_type": "stream",
     "name": "stdout",
     "text": [
      "lemmatization amusing : amuse\n",
      "lemmatization amusing : amusing\n"
     ]
    }
   ],
   "metadata": {}
  },
  {
   "cell_type": "markdown",
   "source": [
    "### 運用pos_tag技巧結合lemmatize提取每個單詞的lemma"
   ],
   "metadata": {}
  },
  {
   "cell_type": "code",
   "execution_count": 6,
   "source": [
    "# Lemmatize with POS Tag\r\n",
    "from nltk.corpus import wordnet\r\n",
    "\r\n",
    "def get_wordnet_pos(word):\r\n",
    "    \"\"\"將pos_tag結果mapping到lemmatizer中pos的格式\"\"\"\r\n",
    "    tag = nltk.pos_tag([word])[0][1][0].upper()\r\n",
    "    tag_dict = {\"J\": wordnet.ADJ,\r\n",
    "                \"N\": wordnet.NOUN,\r\n",
    "                \"V\": wordnet.VERB,\r\n",
    "                \"R\": wordnet.ADV}\r\n",
    "\r\n",
    "    return tag_dict.get(tag, wordnet.NOUN)\r\n"
   ],
   "outputs": [],
   "metadata": {}
  },
  {
   "cell_type": "code",
   "execution_count": 7,
   "source": [
    "word = 'using'\r\n",
    "print(lemmatizer.lemmatize(word, get_wordnet_pos(word)))"
   ],
   "outputs": [
    {
     "output_type": "stream",
     "name": "stdout",
     "text": [
      "use\n"
     ]
    }
   ],
   "metadata": {}
  },
  {
   "cell_type": "markdown",
   "source": [
    "### Lemmatize 字串中每個單詞並加入 POS tag"
   ],
   "metadata": {}
  },
  {
   "cell_type": "code",
   "execution_count": 67,
   "source": [
    "sentence = \"The striped bats are hanging on their feet for best\"\r\n",
    "print([lemmatizer.lemmatize(w, get_wordnet_pos(w)) for w in word_list])\r\n",
    "#> ['The', 'strip', 'bat', 'be', 'hang', 'on', 'their', 'foot', 'for', 'best']"
   ],
   "outputs": [
    {
     "output_type": "stream",
     "name": "stdout",
     "text": [
      "['The', 'strip', 'bat', 'be', 'hang', 'on', 'their', 'foot', 'for', 'best']\n"
     ]
    }
   ],
   "metadata": {}
  },
  {
   "cell_type": "code",
   "execution_count": null,
   "source": [],
   "outputs": [],
   "metadata": {}
  }
 ],
 "metadata": {
  "kernelspec": {
   "name": "python3",
   "display_name": "Python 3.9.6 64-bit"
  },
  "language_info": {
   "codemirror_mode": {
    "name": "ipython",
    "version": 3
   },
   "file_extension": ".py",
   "mimetype": "text/x-python",
   "name": "python",
   "nbconvert_exporter": "python",
   "pygments_lexer": "ipython3",
   "version": "3.9.6"
  },
  "interpreter": {
   "hash": "67019789fca5fcfa1e8e90aaad360222a51a8d5bc2c76577032a0f9c64cf6146"
  }
 },
 "nbformat": 4,
 "nbformat_minor": 2
}