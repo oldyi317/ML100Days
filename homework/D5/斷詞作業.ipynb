{
 "cells": [
  {
   "cell_type": "markdown",
   "source": [
    "## 作業目標: 了解斷詞演算法的背後計算"
   ],
   "metadata": {}
  },
  {
   "cell_type": "markdown",
   "source": [
    "### 根據課程講述的內容, 請計算出下列剩餘所有情況的\n",
    "若有一個人連續觀察到三天水草都是乾燥的(Dry), 則這三天的天氣機率為何？(可參考講義第13頁)\n",
    "(Hint: 共有8種可能機率)\n",
    "\n",
    "```python\n",
    "states = ('sunny', 'rainy')\n",
    "observations = ('dry', 'damp', 'soggy')\n",
    "start_probability = {'sunny': 0.4, 'rainy': 0.6}\n",
    "transition_probability = {'sunny':{'sunny':0.6, 'rainy':0.4},\n",
    "                          'rainy': {'sunny':0.3, 'rainy':0.7}}\n",
    "emission_probatility = {'sunny': {'dry':0.6, 'damp':0.3, 'soggy':0.1},\n",
    "                        'rainy': {'dry':0.1, 'damp':0.4, 'soggy':0.5}}\n",
    "```"
   ],
   "metadata": {}
  },
  {
   "cell_type": "markdown",
   "source": [
    "```\n",
    "觀察狀態 = 'dry', 'dry', 'dry'\n",
    "Sunny, Sunny, Sunny: 0.4*(0.6)*0.6*(0.6)*0.6*(0.6) = 0.031104\n",
    "Rainy, Sunny, Sunny: 0.6*(0.1)*0.3*(0.6)*0.6*(0.6) = 0.003888\n",
    "###<your answers>###\n",
    "\n",
    "最大機率為: Sunny, Sunny, Sunny\n",
    "```"
   ],
   "metadata": {}
  },
  {
   "cell_type": "markdown",
   "source": [
    "### 根據上述條件, 寫出Viterbi應用程式"
   ],
   "metadata": {}
  },
  {
   "cell_type": "code",
   "execution_count": 2,
   "source": [
    "observations = ('dry', 'dry', 'dry') #實際上觀察到的狀態為dry, dry, dry\r\n",
    "states = ('sunny', 'rainy')\r\n",
    "start_probability = {'sunny': 0.4, 'rainy': 0.6}\r\n",
    "transition_probability = {'sunny':{'sunny':0.6, 'rainy':0.4},\r\n",
    "                          'rainy': {'sunny':0.3, 'rainy':0.7}}\r\n",
    "emission_probatility = {'sunny': {'dry':0.6, 'damp':0.3, 'soggy':0.1},\r\n",
    "                        'rainy': {'dry':0.1, 'damp':0.4, 'soggy':0.5}}\r\n",
    "\r\n"
   ],
   "outputs": [
    {
     "output_type": "stream",
     "name": "stdout",
     "text": [
      "{'sunny': {'sunny': 0.6, 'rainy': 0.4}, 'rainy': {'sunny': 0.3, 'rainy': 0.7}}\n"
     ]
    }
   ],
   "metadata": {}
  },
  {
   "cell_type": "code",
   "execution_count": 76,
   "source": [
    "def viterbi(obs, states, start_p, trans_p, emit_p):\r\n",
    "    V = [{}]\r\n",
    "    path = {}\r\n",
    "\r\n",
    "    # Initialize base cases (t == 0)\r\n",
    "    for y in states:\r\n",
    "        V[0][y] = start_p[y] * emit_p[y][obs[0]]\r\n",
    "        path[y] = [y] \r\n",
    "        \r\n",
    "    # Run Viterbi for t > 0\r\n",
    "    for t in range(1,len(obs)):\r\n",
    "        V.append({})\r\n",
    "        newpath = {}\r\n",
    "        for cur_state in states:            \r\n",
    "            # below is calculating the probability of next state based on previous state\r\n",
    "            # ex: cur_state = \"sunny\"\r\n",
    "            # P(sunny)*P(sunny|sunny)*P(dry|sunny) <-- pre_state is \"sunny\"\r\n",
    "            # P(rainy)*P(sunny|rainy)*P(dry|sunny) <-- pre_state is \"rainy\"\r\n",
    "            # keep the biggest probability choice\r\n",
    "            (prob, state) = max([(V[t-1][pre_state] * trans_p[pre_state][cur_state] * emit_p[cur_state][obs[t]], pre_state) for pre_state in states])\r\n",
    "            V[t][cur_state] = prob\r\n",
    "            newpath[cur_state] = path[state] + [cur_state]\r\n",
    "\r\n",
    "        # Don't need to remember the old paths\r\n",
    "        path = newpath\r\n",
    "    \r\n",
    "    (prob, state) = max([(V[len(obs) - 1][final_state], final_state) for final_state in states])\r\n",
    "    return (prob, path[state])"
   ],
   "outputs": [],
   "metadata": {}
  },
  {
   "cell_type": "code",
   "execution_count": 77,
   "source": [
    "result = viterbi(observations,\r\n",
    "                 states,\r\n",
    "                 start_probability,\r\n",
    "                 transition_probability,\r\n",
    "                 emission_probatility)"
   ],
   "outputs": [],
   "metadata": {}
  },
  {
   "cell_type": "code",
   "execution_count": 78,
   "source": [
    "result"
   ],
   "outputs": [
    {
     "output_type": "execute_result",
     "data": {
      "text/plain": [
       "(0.031103999999999993, ['sunny', 'sunny', 'sunny'])"
      ]
     },
     "metadata": {},
     "execution_count": 78
    }
   ],
   "metadata": {}
  }
 ],
 "metadata": {
  "kernelspec": {
   "name": "python3",
   "display_name": "Python 3.9.6 64-bit"
  },
  "language_info": {
   "codemirror_mode": {
    "name": "ipython",
    "version": 3
   },
   "file_extension": ".py",
   "mimetype": "text/x-python",
   "name": "python",
   "nbconvert_exporter": "python",
   "pygments_lexer": "ipython3",
   "version": "3.9.6"
  },
  "interpreter": {
   "hash": "67019789fca5fcfa1e8e90aaad360222a51a8d5bc2c76577032a0f9c64cf6146"
  }
 },
 "nbformat": 4,
 "nbformat_minor": 2
}