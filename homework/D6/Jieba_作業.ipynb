{
 "cells": [
  {
   "cell_type": "markdown",
   "source": [
    "## 作業目標: 使用Jieba進行各項的斷詞操作\n",
    "\n",
    "這份作業我們會使用中文飯店評論資料集來作為斷詞練習。 [資料集:ChnSentiCorp_htl_all](https://github.com/SophonPlus/ChineseNlpCorpus)"
   ],
   "metadata": {}
  },
  {
   "cell_type": "markdown",
   "source": [
    "### 讀入文本資料"
   ],
   "metadata": {}
  },
  {
   "cell_type": "code",
   "execution_count": 3,
   "source": [
    "import pandas as pd\r\n",
    "\r\n",
    "# hint: 可利用pandas讀取CSV\r\n",
    "pd_corpus = pd.read_csv(\"ChnSentiCorp_htl_all.csv\")\r\n",
    "\r\n",
    "pd_corpus.head(5)"
   ],
   "outputs": [
    {
     "output_type": "execute_result",
     "data": {
      "text/plain": [
       "   label                                             review\n",
       "0      1  距离川沙公路较近,但是公交指示不对,如果是\"蔡陆线\"的话,会非常麻烦.建议用别的路线.房间较...\n",
       "1      1                       商务大床房，房间很大，床有2M宽，整体感觉经济实惠不错!\n",
       "2      1         早餐太差，无论去多少人，那边也不加食品的。酒店应该重视一下这个问题了。房间本身很好。\n",
       "3      1  宾馆在小街道上，不大好找，但还好北京热心同胞很多~宾馆设施跟介绍的差不多，房间很小，确实挺小...\n",
       "4      1               CBD中心,周围没什么店铺,说5星有点勉强.不知道为什么卫生间没有电吹风"
      ],
      "text/html": [
       "<div>\n",
       "<style scoped>\n",
       "    .dataframe tbody tr th:only-of-type {\n",
       "        vertical-align: middle;\n",
       "    }\n",
       "\n",
       "    .dataframe tbody tr th {\n",
       "        vertical-align: top;\n",
       "    }\n",
       "\n",
       "    .dataframe thead th {\n",
       "        text-align: right;\n",
       "    }\n",
       "</style>\n",
       "<table border=\"1\" class=\"dataframe\">\n",
       "  <thead>\n",
       "    <tr style=\"text-align: right;\">\n",
       "      <th></th>\n",
       "      <th>label</th>\n",
       "      <th>review</th>\n",
       "    </tr>\n",
       "  </thead>\n",
       "  <tbody>\n",
       "    <tr>\n",
       "      <th>0</th>\n",
       "      <td>1</td>\n",
       "      <td>距离川沙公路较近,但是公交指示不对,如果是\"蔡陆线\"的话,会非常麻烦.建议用别的路线.房间较...</td>\n",
       "    </tr>\n",
       "    <tr>\n",
       "      <th>1</th>\n",
       "      <td>1</td>\n",
       "      <td>商务大床房，房间很大，床有2M宽，整体感觉经济实惠不错!</td>\n",
       "    </tr>\n",
       "    <tr>\n",
       "      <th>2</th>\n",
       "      <td>1</td>\n",
       "      <td>早餐太差，无论去多少人，那边也不加食品的。酒店应该重视一下这个问题了。房间本身很好。</td>\n",
       "    </tr>\n",
       "    <tr>\n",
       "      <th>3</th>\n",
       "      <td>1</td>\n",
       "      <td>宾馆在小街道上，不大好找，但还好北京热心同胞很多~宾馆设施跟介绍的差不多，房间很小，确实挺小...</td>\n",
       "    </tr>\n",
       "    <tr>\n",
       "      <th>4</th>\n",
       "      <td>1</td>\n",
       "      <td>CBD中心,周围没什么店铺,说5星有点勉强.不知道为什么卫生间没有电吹风</td>\n",
       "    </tr>\n",
       "  </tbody>\n",
       "</table>\n",
       "</div>"
      ]
     },
     "metadata": {},
     "execution_count": 3
    }
   ],
   "metadata": {}
  },
  {
   "cell_type": "code",
   "execution_count": 4,
   "source": [
    "#確認所有留言,正評價(label=1)與負評價數量(label=0)\r\n",
    "pd_positive = pd_corpus[pd_corpus['label'] == 1]\r\n",
    "pd_negative = pd_corpus[pd_corpus['label'] == 0]\r\n",
    "\r\n",
    "print(f'Total: {len(pd_corpus)}, Positive: {len(pd_positive)}, Negative: {len(pd_negative)}')"
   ],
   "outputs": [
    {
     "output_type": "stream",
     "name": "stdout",
     "text": [
      "Total: 7766, Positive: 5322, Negative: 2444\n"
     ]
    }
   ],
   "metadata": {}
  },
  {
   "cell_type": "code",
   "execution_count": 6,
   "source": [
    "#移除缺失值\r\n",
    "pd_corpus.dropna(inplace = True)"
   ],
   "outputs": [],
   "metadata": {}
  },
  {
   "cell_type": "markdown",
   "source": [
    "### 建構結巴斷詞Function\n",
    "\n",
    "建構可將讀入的Pandas DataFrame的文本資料，外加一欄名為`cut`的review欄位斷詞結果"
   ],
   "metadata": {}
  },
  {
   "cell_type": "code",
   "execution_count": 7,
   "source": [
    "import jieba"
   ],
   "outputs": [],
   "metadata": {}
  },
  {
   "cell_type": "code",
   "execution_count": 11,
   "source": [
    "class JiebaCutingClass(object):\r\n",
    "    '''Class to use jeiba to parse corpus from dataframe and cut the corpus\r\n",
    "    \r\n",
    "    Parameters\r\n",
    "    -----------\r\n",
    "    key_to_cut: str\r\n",
    "        the dataframe key to parse the sentence for jieba cutting\r\n",
    "    dic: str\r\n",
    "        the dictionary to use for jieba, default is None (use default dictionary)\r\n",
    "    userdict: str\r\n",
    "        the user defined dictionary to use for jieba, default is None\r\n",
    "    '''\r\n",
    "    \r\n",
    "    def __init__(self, key_to_cut:str, dic:str=None, userdict:str=None):\r\n",
    "        \r\n",
    "        if dic is not None:\r\n",
    "            jieba.set_dictionary(dic)\r\n",
    "        \r\n",
    "        if userdict is not None:\r\n",
    "            jieba.load_userdict(userdict)\r\n",
    "        \r\n",
    "        self.key_to_cut = key_to_cut\r\n",
    "        \r\n",
    "        #將paddle 功能開啟\r\n",
    "        jieba.enable_paddle()\r\n",
    "        \r\n",
    "    @staticmethod\r\n",
    "    def cut_single_sentence(sentence, use_paddle=False, use_full=False, use_search=False):\r\n",
    "        \r\n",
    "        if use_search:\r\n",
    "            out = jieba.cut_for_search(sentence)\r\n",
    "        else:\r\n",
    "            out = jieba.cut(sentence, use_paddle=use_paddle, cut_all=use_full)\r\n",
    "        \r\n",
    "        return out\r\n",
    "            \r\n",
    "    \r\n",
    "    def cut_corpus(self, corpus: pd.DataFrame, mode: str) -> pd.DataFrame:\r\n",
    "        '''Method to read and cut sentence from dataframe and append another column named cut\r\n",
    "        \r\n",
    "        Paremeters\r\n",
    "        --------------\r\n",
    "        corpus: pd.DataFrame\r\n",
    "            Input corpus in dataframe\r\n",
    "        mode: str\r\n",
    "            Jieba mode to be used\r\n",
    "        \r\n",
    "        Return\r\n",
    "        ----------------\r\n",
    "        out: pd.Dataframe\r\n",
    "            Output corpus in dataframe\r\n",
    "        '''\r\n",
    "        \r\n",
    "        # checking valid mode\r\n",
    "        if mode not in ['paddle', 'full', 'precise', 'search']:\r\n",
    "            raise TypeError(f'only support `paddle`, `full`, `precise`, and `search` mode, but get {mode}')\r\n",
    "            \r\n",
    "        # cut the corpus based on mode\r\n",
    "        # hint: 根據mode來呼叫相對應的斷詞method\r\n",
    "        if mode == 'paddle':\r\n",
    "            out = self._paddle_cut(corpus)\r\n",
    "        elif mode == 'full':\r\n",
    "            out = self._full_cut(corpus)\r\n",
    "        elif mode == 'precise':\r\n",
    "            out = self._precise_cut(corpus)\r\n",
    "        elif mode == 'search':\r\n",
    "            out = self._search_cut(corpus)\r\n",
    "\r\n",
    "        return out\r\n",
    "    \r\n",
    "    def _paddle_cut(self, corpus):\r\n",
    "        '''paddle mode\r\n",
    "        '''\r\n",
    "        #enable paddle\r\n",
    "        #hint:先啟用paddle mode\r\n",
    "        jieba.enable_paddle()\r\n",
    "        \r\n",
    "        out = []\r\n",
    "        # hint:將讀進的文本進行斷詞，並將結果append回out的陣列中\r\n",
    "        for single_review in corpus[self.key_to_cut]:\r\n",
    "            out.append(word for word in self.cut_single_sentence(single_review, use_paddle=True))\r\n",
    "        \r\n",
    "        corpus['cut'] = out\r\n",
    "        \r\n",
    "        return corpus\r\n",
    "    \r\n",
    "    def _full_cut(self, corpus):\r\n",
    "        '''full mode\r\n",
    "        '''\r\n",
    "        \r\n",
    "        out = []\r\n",
    "        # hint:將讀進的文本進行斷詞，並將結果append回out的陣列中\r\n",
    "        for single_review in corpus[self.key_to_cut]:\r\n",
    "            out.append(word for word in self.cut_single_sentence(single_review, use_full=True))\r\n",
    "        \r\n",
    "        corpus['cut'] = out\r\n",
    "        \r\n",
    "        return corpus\r\n",
    "    \r\n",
    "    def _precise_cut(self, corpus):\r\n",
    "        '''precise mode\r\n",
    "        '''\r\n",
    "        \r\n",
    "        out = []\r\n",
    "        # hint:將讀進的文本進行斷詞，並將結果append回out的陣列中\r\n",
    "        for single_review in corpus[self.key_to_cut]:\r\n",
    "            out.append([word for word in self.cut_single_sentence(single_review)])\r\n",
    "        \r\n",
    "        corpus['cut'] = out\r\n",
    "        \r\n",
    "        return corpus\r\n",
    "    \r\n",
    "    def _search_cut(self, corpus):\r\n",
    "        '''search mode\r\n",
    "        '''\r\n",
    "        \r\n",
    "        out = []\r\n",
    "        # hint:將讀進的文本進行斷詞，並將結果append回out的陣列中\r\n",
    "        for single_review in corpus[self.key_to_cut]:\r\n",
    "            out.append([word for word in self.cut_single_sentence(single_review, use_search=True)])\r\n",
    "        \r\n",
    "        corpus['cut'] = out\r\n",
    "        \r\n",
    "        return corpus"
   ],
   "outputs": [],
   "metadata": {}
  },
  {
   "cell_type": "markdown",
   "source": [
    "### 使用建構好的斷詞物件對文本進行斷詞"
   ],
   "metadata": {}
  },
  {
   "cell_type": "code",
   "execution_count": 12,
   "source": [
    "### 請使用精確模式與預設字典對文本進行斷詞\r\n",
    "\r\n",
    "# hint:請先實例化JiebaCutingClass，再進行斷詞\r\n",
    "tokenizer = JiebaCutingClass(key_to_cut='review')\r\n",
    "pd_cut = tokenizer.cut_corpus(pd_corpus.loc[:50, :], mode='precise')\r\n",
    "\r\n",
    "pd_cut.head()"
   ],
   "outputs": [
    {
     "output_type": "stream",
     "name": "stderr",
     "text": [
      "Paddle enabled successfully......\n",
      "Building prefix dict from the default dictionary ...\n",
      "Loading model from cache C:\\Users\\Tommy\\AppData\\Local\\Temp\\jieba.cache\n",
      "Loading model cost 0.677 seconds.\n",
      "Prefix dict has been built successfully.\n",
      "D:\\ProgramData\\Anaconda3\\envs\\py37\\lib\\site-packages\\pandas\\core\\frame.py:3607: SettingWithCopyWarning: \n",
      "A value is trying to be set on a copy of a slice from a DataFrame.\n",
      "Try using .loc[row_indexer,col_indexer] = value instead\n",
      "\n",
      "See the caveats in the documentation: https://pandas.pydata.org/pandas-docs/stable/user_guide/indexing.html#returning-a-view-versus-a-copy\n",
      "  self._set_item(key, value)\n"
     ]
    },
    {
     "output_type": "execute_result",
     "data": {
      "text/plain": [
       "   label                                             review  \\\n",
       "0      1  距离川沙公路较近,但是公交指示不对,如果是\"蔡陆线\"的话,会非常麻烦.建议用别的路线.房间较...   \n",
       "1      1                       商务大床房，房间很大，床有2M宽，整体感觉经济实惠不错!   \n",
       "2      1         早餐太差，无论去多少人，那边也不加食品的。酒店应该重视一下这个问题了。房间本身很好。   \n",
       "3      1  宾馆在小街道上，不大好找，但还好北京热心同胞很多~宾馆设施跟介绍的差不多，房间很小，确实挺小...   \n",
       "4      1               CBD中心,周围没什么店铺,说5星有点勉强.不知道为什么卫生间没有电吹风   \n",
       "\n",
       "                                                 cut  \n",
       "0  [距离, 川沙, 公路, 较近, ,, 但是, 公交, 指示, 不, 对, ,, 如果, 是...  \n",
       "1  [商务, 大床, 房, ，, 房间, 很大, ，, 床有, 2M, 宽, ，, 整体, 感觉...  \n",
       "2  [早餐, 太, 差, ，, 无论, 去, 多少, 人, ，, 那边, 也, 不加, 食品, ...  \n",
       "3  [宾馆, 在, 小, 街道, 上, ，, 不大好, 找, ，, 但, 还好, 北京, 热心,...  \n",
       "4  [CBD, 中心, ,, 周围, 没什么, 店铺, ,, 说, 5, 星, 有点, 勉强, ...  "
      ],
      "text/html": [
       "<div>\n",
       "<style scoped>\n",
       "    .dataframe tbody tr th:only-of-type {\n",
       "        vertical-align: middle;\n",
       "    }\n",
       "\n",
       "    .dataframe tbody tr th {\n",
       "        vertical-align: top;\n",
       "    }\n",
       "\n",
       "    .dataframe thead th {\n",
       "        text-align: right;\n",
       "    }\n",
       "</style>\n",
       "<table border=\"1\" class=\"dataframe\">\n",
       "  <thead>\n",
       "    <tr style=\"text-align: right;\">\n",
       "      <th></th>\n",
       "      <th>label</th>\n",
       "      <th>review</th>\n",
       "      <th>cut</th>\n",
       "    </tr>\n",
       "  </thead>\n",
       "  <tbody>\n",
       "    <tr>\n",
       "      <th>0</th>\n",
       "      <td>1</td>\n",
       "      <td>距离川沙公路较近,但是公交指示不对,如果是\"蔡陆线\"的话,会非常麻烦.建议用别的路线.房间较...</td>\n",
       "      <td>[距离, 川沙, 公路, 较近, ,, 但是, 公交, 指示, 不, 对, ,, 如果, 是...</td>\n",
       "    </tr>\n",
       "    <tr>\n",
       "      <th>1</th>\n",
       "      <td>1</td>\n",
       "      <td>商务大床房，房间很大，床有2M宽，整体感觉经济实惠不错!</td>\n",
       "      <td>[商务, 大床, 房, ，, 房间, 很大, ，, 床有, 2M, 宽, ，, 整体, 感觉...</td>\n",
       "    </tr>\n",
       "    <tr>\n",
       "      <th>2</th>\n",
       "      <td>1</td>\n",
       "      <td>早餐太差，无论去多少人，那边也不加食品的。酒店应该重视一下这个问题了。房间本身很好。</td>\n",
       "      <td>[早餐, 太, 差, ，, 无论, 去, 多少, 人, ，, 那边, 也, 不加, 食品, ...</td>\n",
       "    </tr>\n",
       "    <tr>\n",
       "      <th>3</th>\n",
       "      <td>1</td>\n",
       "      <td>宾馆在小街道上，不大好找，但还好北京热心同胞很多~宾馆设施跟介绍的差不多，房间很小，确实挺小...</td>\n",
       "      <td>[宾馆, 在, 小, 街道, 上, ，, 不大好, 找, ，, 但, 还好, 北京, 热心,...</td>\n",
       "    </tr>\n",
       "    <tr>\n",
       "      <th>4</th>\n",
       "      <td>1</td>\n",
       "      <td>CBD中心,周围没什么店铺,说5星有点勉强.不知道为什么卫生间没有电吹风</td>\n",
       "      <td>[CBD, 中心, ,, 周围, 没什么, 店铺, ,, 说, 5, 星, 有点, 勉强, ...</td>\n",
       "    </tr>\n",
       "  </tbody>\n",
       "</table>\n",
       "</div>"
      ]
     },
     "metadata": {},
     "execution_count": 12
    }
   ],
   "metadata": {}
  },
  {
   "cell_type": "markdown",
   "source": [
    "### 載入繁中字典為指定的字詞進行斷詞"
   ],
   "metadata": {}
  },
  {
   "cell_type": "code",
   "execution_count": 14,
   "source": [
    "test_string = '我愛cupoy自然語言處理馬拉松課程'\r\n",
    "\r\n",
    "jieba_cut = JiebaCutingClass(key_to_cut='', dic='dict.txt.big')\r\n",
    "out_string = jieba_cut.cut_single_sentence(test_string, use_paddle=True) #paddle 模式\r\n",
    "print(f'Paddle模式: {[string for string in out_string]}')\r\n",
    "\r\n",
    "out_string = jieba_cut.cut_single_sentence(test_string, use_full=True) #全模式\r\n",
    "print(f'全模式: {[string for string in out_string]}')\r\n",
    "\r\n",
    "out_string = jieba_cut.cut_single_sentence(test_string, use_search=True) #搜尋模式\r\n",
    "print(f'搜尋模式: {[string for string in out_string]}')\r\n",
    "\r\n",
    "out_string = jieba_cut.cut_single_sentence(test_string) #精確模式\r\n",
    "print(f'精確模式: {[string for string in out_string]}')"
   ],
   "outputs": [
    {
     "output_type": "stream",
     "name": "stderr",
     "text": [
      "Paddle enabled successfully......\n",
      "Building prefix dict from d:\\Tommy\\NTPU\\110NTPU\\Project\\ML100Days\\homework\\D6\\dict.txt.big ...\n"
     ]
    },
    {
     "output_type": "stream",
     "name": "stdout",
     "text": [
      "Paddle模式: ['我', '愛', 'cupoy', '自然', '語言', '處理', '馬拉松', '課程']\n"
     ]
    },
    {
     "output_type": "stream",
     "name": "stderr",
     "text": [
      "Dumping model to file cache C:\\Users\\Tommy\\AppData\\Local\\Temp\\jieba.u9dc4d4c3c3784968e6012e3e5866c303.cache\n",
      "Loading model cost 1.308 seconds.\n",
      "Prefix dict has been built successfully.\n"
     ]
    },
    {
     "output_type": "stream",
     "name": "stdout",
     "text": [
      "全模式: ['我', '愛', 'cupoy', '自然', '自然語言', '語言', '處理', '馬拉', '馬拉松', '課程']\n",
      "搜尋模式: ['我', '愛', 'cupoy', '自然', '語言', '自然語言', '處理', '馬拉', '馬拉松', '課程']\n",
      "精確模式: ['我', '愛', 'cupoy', '自然語言', '處理', '馬拉松', '課程']\n"
     ]
    }
   ],
   "metadata": {}
  }
 ],
 "metadata": {
  "kernelspec": {
   "name": "python3",
   "display_name": "Python 3.7.10 64-bit ('py37': conda)"
  },
  "language_info": {
   "codemirror_mode": {
    "name": "ipython",
    "version": 3
   },
   "file_extension": ".py",
   "mimetype": "text/x-python",
   "name": "python",
   "nbconvert_exporter": "python",
   "pygments_lexer": "ipython3",
   "version": "3.7.10"
  },
  "interpreter": {
   "hash": "dac8d9316ea83526bfa9af059a2b0a1ae1e70bd4474970b7f7f89c98f9c00455"
  }
 },
 "nbformat": 4,
 "nbformat_minor": 2
}