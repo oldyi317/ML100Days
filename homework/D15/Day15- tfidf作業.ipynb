{
 "cells": [
  {
   "cell_type": "markdown",
   "source": [
    "## 作業目標：搭建一個TFIDF 模型"
   ],
   "metadata": {}
  },
  {
   "cell_type": "markdown",
   "source": [
    "---"
   ],
   "metadata": {}
  },
  {
   "cell_type": "markdown",
   "source": [
    "#### Reference:https://towardsdatascience.com/natural-language-processing-feature-engineering-using-tf-idf-e8b9d00e7e76"
   ],
   "metadata": {}
  },
  {
   "cell_type": "code",
   "execution_count": 7,
   "source": [
    "import nltk\r\n",
    "documentA = 'the man went out for a walk'\r\n",
    "documentB = 'the children sat around the fire'"
   ],
   "outputs": [],
   "metadata": {}
  },
  {
   "cell_type": "markdown",
   "source": [
    "## 首先我們做tokenize，並取出所有文件中的單詞"
   ],
   "metadata": {}
  },
  {
   "cell_type": "code",
   "execution_count": 8,
   "source": [
    "\r\n",
    "tokenize_A = nltk.word_tokenize(documentA)\r\n",
    "tokenize_B = nltk.word_tokenize(documentB)\r\n",
    "\r\n",
    "uniqueWords = set(tokenize_A).union(set(tokenize_B)) ##所有文件中的單詞"
   ],
   "outputs": [],
   "metadata": {}
  },
  {
   "cell_type": "markdown",
   "source": [
    "## 計算每個文件中，所有uniqueWords出現的次數"
   ],
   "metadata": {}
  },
  {
   "cell_type": "code",
   "execution_count": 9,
   "source": [
    "numOfWordsA = dict.fromkeys(uniqueWords, 0)\r\n",
    "for word in tokenize_A:\r\n",
    "    numOfWordsA[word] += 1\r\n",
    "numOfWordsB = dict.fromkeys(uniqueWords, 0)\r\n",
    "for word in tokenize_B:\r\n",
    "    numOfWordsB[word] += 1"
   ],
   "outputs": [],
   "metadata": {}
  },
  {
   "cell_type": "code",
   "execution_count": 10,
   "source": [
    "numOfWordsA"
   ],
   "outputs": [
    {
     "output_type": "execute_result",
     "data": {
      "text/plain": [
       "{'for': 1,\n",
       " 'fire': 0,\n",
       " 'the': 1,\n",
       " 'walk': 1,\n",
       " 'children': 0,\n",
       " 'went': 1,\n",
       " 'around': 0,\n",
       " 'out': 1,\n",
       " 'sat': 0,\n",
       " 'a': 1,\n",
       " 'man': 1}"
      ]
     },
     "metadata": {},
     "execution_count": 10
    }
   ],
   "metadata": {}
  },
  {
   "cell_type": "code",
   "execution_count": 11,
   "source": [
    "numOfWordsB"
   ],
   "outputs": [
    {
     "output_type": "execute_result",
     "data": {
      "text/plain": [
       "{'for': 0,\n",
       " 'fire': 1,\n",
       " 'the': 2,\n",
       " 'walk': 0,\n",
       " 'children': 1,\n",
       " 'went': 0,\n",
       " 'around': 1,\n",
       " 'out': 0,\n",
       " 'sat': 1,\n",
       " 'a': 0,\n",
       " 'man': 0}"
      ]
     },
     "metadata": {},
     "execution_count": 11
    }
   ],
   "metadata": {}
  },
  {
   "cell_type": "markdown",
   "source": [
    "## 定義function:計算TF"
   ],
   "metadata": {}
  },
  {
   "cell_type": "code",
   "execution_count": 13,
   "source": [
    "def computeTF(wordDict, tokenize_item):\r\n",
    "    \"\"\"\r\n",
    "    wordDict : 文件內單詞對應出現數量的字典\r\n",
    "    tokenize_item : 文件tokenize後的輸出\r\n",
    "    \"\"\"\r\n",
    "    tfDict = {}\r\n",
    "    bagOfWordsCount = len(tokenize_item) ## tokenize_item單詞數量\r\n",
    "    for word, count in wordDict.items():\r\n",
    "        tfDict[word] = count / bagOfWordsCount ##單詞在該文件出現的次數/該文件擁有的所有單詞數量\r\n",
    "    return tfDict"
   ],
   "outputs": [],
   "metadata": {}
  },
  {
   "cell_type": "markdown",
   "source": [
    "## 定義function:計算IDF"
   ],
   "metadata": {}
  },
  {
   "cell_type": "code",
   "execution_count": 14,
   "source": [
    "def computeIDF(documentsDict):\r\n",
    "    \"\"\"\r\n",
    "    documentsDict:為一個list，包含所有文件的wordDict\r\n",
    "    \"\"\"\r\n",
    "    import math\r\n",
    "    N = len(documentsDict)\r\n",
    "    \r\n",
    "    idfDict = dict.fromkeys(documentsDict[0].keys(), 0)\r\n",
    "    for document in documentsDict:\r\n",
    "        for word, val in document.items():\r\n",
    "            if val > 0:\r\n",
    "                idfDict[word] += 1 ## 計算單詞在多少文件中出現過\r\n",
    "    \r\n",
    "    for word, val in idfDict.items():\r\n",
    "        idfDict[word] = math.log(N / val) ## 計算IDF，Log (所有文件的數目/包含這個單詞的文件數目)\r\n",
    "    return idfDict"
   ],
   "outputs": [],
   "metadata": {}
  },
  {
   "cell_type": "markdown",
   "source": [
    "## 定義function:計算TFIDF"
   ],
   "metadata": {}
  },
  {
   "cell_type": "code",
   "execution_count": 15,
   "source": [
    "\r\n",
    "def computeTFIDF(tf_item, idfs):\r\n",
    "    tfidf = {}\r\n",
    "    for word, val in tf_item.items():\r\n",
    "        tfidf[word] = val * idfs[word]\r\n",
    "    return tfidf\r\n",
    "\r\n"
   ],
   "outputs": [],
   "metadata": {}
  },
  {
   "cell_type": "code",
   "execution_count": 16,
   "source": [
    "tfA = computeTF(numOfWordsA, tokenize_A)\r\n",
    "tfB = computeTF(numOfWordsB, tokenize_B)\r\n",
    "\r\n",
    "idfs = computeIDF([numOfWordsA, numOfWordsB])\r\n",
    "\r\n",
    "\r\n",
    "tfidfA = computeTFIDF(tfA, idfs)\r\n",
    "tfidfB = computeTFIDF(tfB, idfs)"
   ],
   "outputs": [],
   "metadata": {}
  },
  {
   "cell_type": "code",
   "execution_count": 17,
   "source": [
    "tfidfA"
   ],
   "outputs": [
    {
     "output_type": "execute_result",
     "data": {
      "text/plain": [
       "{'for': 0.09902102579427789,\n",
       " 'fire': 0.0,\n",
       " 'the': 0.0,\n",
       " 'walk': 0.09902102579427789,\n",
       " 'children': 0.0,\n",
       " 'went': 0.09902102579427789,\n",
       " 'around': 0.0,\n",
       " 'out': 0.09902102579427789,\n",
       " 'sat': 0.0,\n",
       " 'a': 0.09902102579427789,\n",
       " 'man': 0.09902102579427789}"
      ]
     },
     "metadata": {},
     "execution_count": 17
    }
   ],
   "metadata": {}
  },
  {
   "cell_type": "code",
   "execution_count": 18,
   "source": [
    "tfidfB"
   ],
   "outputs": [
    {
     "output_type": "execute_result",
     "data": {
      "text/plain": [
       "{'for': 0.0,\n",
       " 'fire': 0.11552453009332421,\n",
       " 'the': 0.0,\n",
       " 'walk': 0.0,\n",
       " 'children': 0.11552453009332421,\n",
       " 'went': 0.0,\n",
       " 'around': 0.11552453009332421,\n",
       " 'out': 0.0,\n",
       " 'sat': 0.11552453009332421,\n",
       " 'a': 0.0,\n",
       " 'man': 0.0}"
      ]
     },
     "metadata": {},
     "execution_count": 18
    }
   ],
   "metadata": {}
  },
  {
   "cell_type": "code",
   "execution_count": null,
   "source": [],
   "outputs": [],
   "metadata": {}
  }
 ],
 "metadata": {
  "kernelspec": {
   "name": "python3",
   "display_name": "Python 3.9.6 64-bit"
  },
  "language_info": {
   "codemirror_mode": {
    "name": "ipython",
    "version": 3
   },
   "file_extension": ".py",
   "mimetype": "text/x-python",
   "name": "python",
   "nbconvert_exporter": "python",
   "pygments_lexer": "ipython3",
   "version": "3.9.6"
  },
  "interpreter": {
   "hash": "67019789fca5fcfa1e8e90aaad360222a51a8d5bc2c76577032a0f9c64cf6146"
  }
 },
 "nbformat": 4,
 "nbformat_minor": 2
}