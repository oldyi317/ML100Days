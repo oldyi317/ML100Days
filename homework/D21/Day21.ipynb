{
 "cells": [
  {
   "cell_type": "markdown",
   "source": [
    "## Naive由來\r\n",
    "* 特徵獨立的假設在現實場景中可以說是幾乎無法實現，像是在一篇文章中，不同單詞之間可能存在一定的關係，例如 \"I\" 之後很容易出現\"am\"，此時這兩個單詞之間就不是獨立的關係。又或者我們想要預測明天是否會下雨，我們藉由“風向” “濕度” “過去幾天的天氣”等因素作為特徵，但“風向”與“濕度”其實存在特定的關係。所以要滿足 “所有特徵都是互相獨立(簡單來說就是特徵的值完全不受其他特徵的影響)” 幾乎是不可能的\r\n",
    "* 儘管如此 Naive Bayes在許多問題上還是有相當好的表現。"
   ],
   "metadata": {}
  },
  {
   "cell_type": "code",
   "execution_count": null,
   "source": [],
   "outputs": [],
   "metadata": {}
  }
 ],
 "metadata": {
  "kernelspec": {
   "display_name": "Python 3",
   "language": "python",
   "name": "python3"
  },
  "language_info": {
   "codemirror_mode": {
    "name": "ipython",
    "version": 3
   },
   "file_extension": ".py",
   "mimetype": "text/x-python",
   "name": "python",
   "nbconvert_exporter": "python",
   "pygments_lexer": "ipython3",
   "version": "3.7.4"
  }
 },
 "nbformat": 4,
 "nbformat_minor": 2
}