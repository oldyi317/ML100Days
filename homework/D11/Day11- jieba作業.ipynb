{
 "cells": [
  {
   "cell_type": "markdown",
   "source": [
    "## 作業目標：運用課程所學，操作字串達到預期輸出"
   ],
   "metadata": {}
  },
  {
   "cell_type": "markdown",
   "source": [
    "* 自行尋找一篇超過100字的文章\n",
    "    * 首先運用結巴斷詞，自行新增字典使得斷詞更為正確\n",
    "    * 使用jieba 完成 PoS Taggin\n",
    "    * 新增的詞也必須賦予詞性"
   ],
   "metadata": {}
  },
  {
   "cell_type": "markdown",
   "source": [
    "---"
   ],
   "metadata": {}
  },
  {
   "cell_type": "code",
   "execution_count": 1,
   "source": [
    "import jieba\r\n",
    "import jieba.posseg as pseg\r\n",
    "jieba.set_dictionary('dict.txt')"
   ],
   "outputs": [],
   "metadata": {}
  },
  {
   "cell_type": "markdown",
   "source": [
    "---"
   ],
   "metadata": {}
  },
  {
   "cell_type": "code",
   "execution_count": 2,
   "source": [
    "sentence = '''這是敘述近年來，AI 應用已無所不在，不論在新創或是傳產領域，都可能透過機器學習解決過去難以解決的問題。但目前台灣企業在 AI 導入的腳步仍然緩慢，除了人才嚴重短缺，教育資源無法即時跟上產業變異也是原因之一。因此，我們發起了「 機器學習 百日馬拉松 」教練陪跑計劃，翻轉傳統上課模式，以自主練習為主，幫助你獲得最大學習成效，搶先一步進入 AI 人工智能領域。'''"
   ],
   "outputs": [],
   "metadata": {}
  },
  {
   "cell_type": "code",
   "execution_count": 3,
   "source": [
    "sentence    "
   ],
   "outputs": [
    {
     "output_type": "execute_result",
     "data": {
      "text/plain": [
       "'這是敘述近年來，AI 應用已無所不在，不論在新創或是傳產領域，都可能透過機器學習解決過去難以解決的問題。但目前台灣企業在 AI 導入的腳步仍然緩慢，除了人才嚴重短缺，教育資源無法即時跟上產業變異也是原因之一。因此，我們發起了「 機器學習 百日馬拉松 」教練陪跑計劃，翻轉傳統上課模式，以自主練習為主，幫助你獲得最大學習成效，搶先一步進入 AI 人工智能領域。'"
      ]
     },
     "metadata": {},
     "execution_count": 3
    }
   ],
   "metadata": {}
  },
  {
   "cell_type": "code",
   "execution_count": 4,
   "source": [
    "print(\"output 精確模式: {}\".format('|'.join(jieba.cut(sentence, cut_all=False, HMM=False))))"
   ],
   "outputs": [
    {
     "output_type": "stream",
     "name": "stderr",
     "text": [
      "Building prefix dict from d:\\Tommy\\ML100Days\\homework\\D11\\dict.txt ...\n",
      "Dumping model to file cache C:\\Users\\Tommy\\AppData\\Local\\Temp\\jieba.u416e4f38030583443274378b871a74a1.cache\n",
      "Loading model cost 0.576 seconds.\n",
      "Prefix dict has been built successfully.\n"
     ]
    },
    {
     "output_type": "stream",
     "name": "stdout",
     "text": [
      "output 精確模式: 這是|敘述|近年|來|，|AI| |應用|已|無所不在|，|不論|在|新創|或是|傳產|領域|，|都|可能|透過|機器|學習|解決|過去|難以|解決|的|問題|。|但|目前|台灣|企業|在| |AI| |導入|的|腳步|仍然|緩慢|，|除了|人才|嚴重|短缺|，|教育|資源|無法|即時|跟上|產業|變異|也|是|原因|之|一|。|因此|，|我們|發起|了|「| |機器|學習| |百日|馬拉松| |」|教練|陪跑|計劃|，|翻轉|傳統|上課|模式|，|以|自主|練習|為主|，|幫助|你|獲得|最|大|學習|成效|，|搶先|一步|進入| |AI| |人工|智能|領域|。\n"
     ]
    }
   ],
   "metadata": {}
  },
  {
   "cell_type": "markdown",
   "source": [
    "## 新增字典"
   ],
   "metadata": {}
  },
  {
   "cell_type": "code",
   "execution_count": 9,
   "source": [
    "new_words = '教練陪跑計劃 2 n\\n百日馬拉松 2 n\\n機器學習 2 n\\n人工智能 2 n\\n翻轉 2 v'\r\n",
    "with open('adding.txt', 'w') as file:\r\n",
    "    file.write(new_words)\r\n",
    "\r\n",
    "jieba.load_userdict('./adding.txt')\r\n"
   ],
   "outputs": [
    {
     "output_type": "error",
     "ename": "ValueError",
     "evalue": "dictionary file ./adding.txt must be utf-8",
     "traceback": [
      "\u001b[1;31m---------------------------------------------------------------------------\u001b[0m",
      "\u001b[1;31mUnicodeDecodeError\u001b[0m                        Traceback (most recent call last)",
      "\u001b[1;32m~\\AppData\\Local\\Programs\\Python\\Python39\\lib\\site-packages\\jieba\\__init__.py\u001b[0m in \u001b[0;36mload_userdict\u001b[1;34m(self, f)\u001b[0m\n\u001b[0;32m    404\u001b[0m                 \u001b[1;32mtry\u001b[0m\u001b[1;33m:\u001b[0m\u001b[1;33m\u001b[0m\u001b[1;33m\u001b[0m\u001b[0m\n\u001b[1;32m--> 405\u001b[1;33m                     \u001b[0mline\u001b[0m \u001b[1;33m=\u001b[0m \u001b[0mline\u001b[0m\u001b[1;33m.\u001b[0m\u001b[0mdecode\u001b[0m\u001b[1;33m(\u001b[0m\u001b[1;34m'utf-8'\u001b[0m\u001b[1;33m)\u001b[0m\u001b[1;33m.\u001b[0m\u001b[0mlstrip\u001b[0m\u001b[1;33m(\u001b[0m\u001b[1;34m'\\ufeff'\u001b[0m\u001b[1;33m)\u001b[0m\u001b[1;33m\u001b[0m\u001b[1;33m\u001b[0m\u001b[0m\n\u001b[0m\u001b[0;32m    406\u001b[0m                 \u001b[1;32mexcept\u001b[0m \u001b[0mUnicodeDecodeError\u001b[0m\u001b[1;33m:\u001b[0m\u001b[1;33m\u001b[0m\u001b[1;33m\u001b[0m\u001b[0m\n",
      "\u001b[1;31mUnicodeDecodeError\u001b[0m: 'utf-8' codec can't decode byte 0xb1 in position 0: invalid start byte",
      "\nDuring handling of the above exception, another exception occurred:\n",
      "\u001b[1;31mValueError\u001b[0m                                Traceback (most recent call last)",
      "\u001b[1;32m~\\AppData\\Local\\Temp/ipykernel_4472/3393971787.py\u001b[0m in \u001b[0;36m<module>\u001b[1;34m\u001b[0m\n\u001b[0;32m      3\u001b[0m     \u001b[0mfile\u001b[0m\u001b[1;33m.\u001b[0m\u001b[0mwrite\u001b[0m\u001b[1;33m(\u001b[0m\u001b[0mnew_words\u001b[0m\u001b[1;33m)\u001b[0m\u001b[1;33m\u001b[0m\u001b[1;33m\u001b[0m\u001b[0m\n\u001b[0;32m      4\u001b[0m \u001b[1;33m\u001b[0m\u001b[0m\n\u001b[1;32m----> 5\u001b[1;33m \u001b[0mjieba\u001b[0m\u001b[1;33m.\u001b[0m\u001b[0mload_userdict\u001b[0m\u001b[1;33m(\u001b[0m\u001b[1;34m'./adding.txt'\u001b[0m\u001b[1;33m)\u001b[0m\u001b[1;33m\u001b[0m\u001b[1;33m\u001b[0m\u001b[0m\n\u001b[0m",
      "\u001b[1;32m~\\AppData\\Local\\Programs\\Python\\Python39\\lib\\site-packages\\jieba\\__init__.py\u001b[0m in \u001b[0;36mload_userdict\u001b[1;34m(self, f)\u001b[0m\n\u001b[0;32m    405\u001b[0m                     \u001b[0mline\u001b[0m \u001b[1;33m=\u001b[0m \u001b[0mline\u001b[0m\u001b[1;33m.\u001b[0m\u001b[0mdecode\u001b[0m\u001b[1;33m(\u001b[0m\u001b[1;34m'utf-8'\u001b[0m\u001b[1;33m)\u001b[0m\u001b[1;33m.\u001b[0m\u001b[0mlstrip\u001b[0m\u001b[1;33m(\u001b[0m\u001b[1;34m'\\ufeff'\u001b[0m\u001b[1;33m)\u001b[0m\u001b[1;33m\u001b[0m\u001b[1;33m\u001b[0m\u001b[0m\n\u001b[0;32m    406\u001b[0m                 \u001b[1;32mexcept\u001b[0m \u001b[0mUnicodeDecodeError\u001b[0m\u001b[1;33m:\u001b[0m\u001b[1;33m\u001b[0m\u001b[1;33m\u001b[0m\u001b[0m\n\u001b[1;32m--> 407\u001b[1;33m                     \u001b[1;32mraise\u001b[0m \u001b[0mValueError\u001b[0m\u001b[1;33m(\u001b[0m\u001b[1;34m'dictionary file %s must be utf-8'\u001b[0m \u001b[1;33m%\u001b[0m \u001b[0mf_name\u001b[0m\u001b[1;33m)\u001b[0m\u001b[1;33m\u001b[0m\u001b[1;33m\u001b[0m\u001b[0m\n\u001b[0m\u001b[0;32m    408\u001b[0m             \u001b[1;32mif\u001b[0m \u001b[1;32mnot\u001b[0m \u001b[0mline\u001b[0m\u001b[1;33m:\u001b[0m\u001b[1;33m\u001b[0m\u001b[1;33m\u001b[0m\u001b[0m\n\u001b[0;32m    409\u001b[0m                 \u001b[1;32mcontinue\u001b[0m\u001b[1;33m\u001b[0m\u001b[1;33m\u001b[0m\u001b[0m\n",
      "\u001b[1;31mValueError\u001b[0m: dictionary file ./adding.txt must be utf-8"
     ]
    }
   ],
   "metadata": {}
  },
  {
   "cell_type": "code",
   "execution_count": 10,
   "source": [
    "print(\"output 精確模式: {}\".format('|'.join(jieba.cut(sentence, cut_all=False, HMM=False))))"
   ],
   "outputs": [
    {
     "output_type": "stream",
     "name": "stdout",
     "text": [
      "output 精確模式: 這是|敘述|近年|來|，|AI| |應用|已|無所不在|，|不論|在|新創|或是|傳產|領域|，|都|可能|透過|機器|學習|解決|過去|難以|解決|的|問題|。|但|目前|台灣|企業|在| |AI| |導入|的|腳步|仍然|緩慢|，|除了|人才|嚴重|短缺|，|教育|資源|無法|即時|跟上|產業|變異|也|是|原因|之|一|。|因此|，|我們|發起|了|「| |機器|學習| |百日|馬拉松| |」|教練|陪跑|計劃|，|翻轉|傳統|上課|模式|，|以|自主|練習|為主|，|幫助|你|獲得|最|大|學習|成效|，|搶先|一步|進入| |AI| |人工|智能|領域|。\n"
     ]
    }
   ],
   "metadata": {}
  },
  {
   "cell_type": "markdown",
   "source": [
    "## Taggin"
   ],
   "metadata": {}
  },
  {
   "cell_type": "code",
   "execution_count": 11,
   "source": [
    "words = pseg.cut(sentence,)\r\n",
    "for word, flag in words:\r\n",
    "    print(word, flag)"
   ],
   "outputs": [
    {
     "output_type": "stream",
     "name": "stdout",
     "text": [
      "這是 x\n",
      "敘述 x\n",
      "近年 t\n",
      "來 zg\n",
      "， x\n",
      "AI eng\n",
      "  x\n",
      "應用 x\n",
      "已 d\n",
      "無所不在 x\n",
      "， x\n",
      "不論 x\n",
      "在 p\n",
      "新創 x\n",
      "或是 c\n",
      "傳產 x\n",
      "領域 x\n",
      "， x\n",
      "都 d\n",
      "可能 v\n",
      "透過 x\n",
      "機器 x\n",
      "學習 x\n",
      "解決 x\n",
      "過去 x\n",
      "難以 x\n",
      "解決 x\n",
      "的 uj\n",
      "問題 x\n",
      "。 x\n",
      "但 c\n",
      "目前 t\n",
      "台灣 x\n",
      "企業 x\n",
      "在 p\n",
      "  x\n",
      "AI eng\n",
      "  x\n",
      "導入 x\n",
      "的 uj\n",
      "腳步 x\n",
      "仍然 d\n",
      "緩慢 x\n",
      "， x\n",
      "除了 p\n",
      "人才 n\n",
      "嚴重 x\n",
      "短缺 a\n",
      "， x\n",
      "教育 vn\n",
      "資源 x\n",
      "無法 x\n",
      "即時 x\n",
      "跟上 f\n",
      "產業 x\n",
      "變異 x\n",
      "也 d\n",
      "是 v\n",
      "原因 n\n",
      "之一 r\n",
      "。 x\n",
      "因此 c\n",
      "， x\n",
      "我們 x\n",
      "發起 x\n",
      "了 ul\n",
      "「 x\n",
      "  x\n",
      "機器 x\n",
      "學習 x\n",
      "  x\n",
      "百日 m\n",
      "馬拉松 x\n",
      "  x\n",
      "」 x\n",
      "教練 x\n",
      "陪跑 x\n",
      "計劃 x\n",
      "， x\n",
      "翻轉 x\n",
      "傳統 x\n",
      "上課 x\n",
      "模式 n\n",
      "， x\n",
      "以 p\n",
      "自主 v\n",
      "練習 x\n",
      "為主 x\n",
      "， x\n",
      "幫助 x\n",
      "你 r\n",
      "獲得 x\n",
      "最 d\n",
      "大 a\n",
      "學習 x\n",
      "成效 a\n",
      "， x\n",
      "搶先 x\n",
      "一步 m\n",
      "進入 x\n",
      "  x\n",
      "AI eng\n",
      "  x\n",
      "人工 n\n",
      "智能 n\n",
      "領域 x\n",
      "。 x\n"
     ]
    }
   ],
   "metadata": {}
  },
  {
   "cell_type": "code",
   "execution_count": null,
   "source": [],
   "outputs": [],
   "metadata": {}
  }
 ],
 "metadata": {
  "kernelspec": {
   "name": "python3",
   "display_name": "Python 3.9.6 64-bit"
  },
  "language_info": {
   "codemirror_mode": {
    "name": "ipython",
    "version": 3
   },
   "file_extension": ".py",
   "mimetype": "text/x-python",
   "name": "python",
   "nbconvert_exporter": "python",
   "pygments_lexer": "ipython3",
   "version": "3.9.6"
  },
  "interpreter": {
   "hash": "67019789fca5fcfa1e8e90aaad360222a51a8d5bc2c76577032a0f9c64cf6146"
  }
 },
 "nbformat": 4,
 "nbformat_minor": 2
}