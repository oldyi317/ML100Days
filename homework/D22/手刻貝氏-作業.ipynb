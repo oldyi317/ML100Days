{
 "cells": [
  {
   "cell_type": "markdown",
   "source": [
    "# 手刻基本Naive Bayes模型"
   ],
   "metadata": {}
  },
  {
   "cell_type": "markdown",
   "source": [
    "#### 學習重點：理解單純貝氏模型原理"
   ],
   "metadata": {}
  },
  {
   "cell_type": "markdown",
   "source": [
    "---"
   ],
   "metadata": {}
  },
  {
   "cell_type": "code",
   "execution_count": 1,
   "source": [
    "import re\r\n",
    "import numpy as np\r\n",
    "import math\r\n",
    "import os\r\n",
    "import glob\r\n",
    "import codecs\r\n",
    "\r\n",
    "from collections import defaultdict\r\n",
    "from collections import Counter\r\n",
    "\r\n",
    "def tokenize(message):\r\n",
    "    message=message.lower()\r\n",
    "    all_words=re.findall(\"[a-z0-9]+\",message)\r\n",
    "    return set(all_words)"
   ],
   "outputs": [],
   "metadata": {}
  },
  {
   "cell_type": "markdown",
   "source": [
    "### 讀入資料並分割為 train/testset"
   ],
   "metadata": {}
  },
  {
   "cell_type": "code",
   "execution_count": 2,
   "source": [
    "X = []\r\n",
    "Y = []\r\n",
    "paths =[r'spam_data/spam', r'spam_data/easy_ham', r'spam_data/hard_ham'] \r\n",
    "for path in paths:\r\n",
    "    for fn in glob.glob(path+\"/*\"):\r\n",
    "        if \"ham\" not in fn:\r\n",
    "            is_spam = True\r\n",
    "        else:\r\n",
    "            is_spam = False\r\n",
    "        #codecs.open可以避開錯誤，用errors='ignore'\r\n",
    "        with codecs.open(fn,encoding='utf-8', errors='ignore') as file:\r\n",
    "            for line in file:\r\n",
    "                #這個line的開頭為Subject:\r\n",
    "                if line.startswith(\"Subject:\"):\r\n",
    "                    subject=re.sub(r\"^Subject:\",\"\",line).strip()\r\n",
    "                    X.append(subject)\r\n",
    "                    Y.append(is_spam)"
   ],
   "outputs": [],
   "metadata": {}
  },
  {
   "cell_type": "code",
   "execution_count": 3,
   "source": [
    "from sklearn.model_selection import train_test_split\r\n",
    "# random_state 是為了讓各為學員得到相同的結果，平時可以移除\r\n",
    "X_train, X_test, y_train, y_test = train_test_split(X, Y, test_size = 0.2, random_state = 0)"
   ],
   "outputs": [],
   "metadata": {}
  },
  {
   "cell_type": "code",
   "execution_count": 4,
   "source": [
    "train_data = []\r\n",
    "test_data = []\r\n",
    "\r\n",
    "for x_, y_ in zip(X_train, y_train):\r\n",
    "    train_data.append([x_, y_])\r\n",
    "\r\n",
    "for x_, y_ in zip(X_test, y_test):\r\n",
    "    test_data.append([x_, y_])"
   ],
   "outputs": [],
   "metadata": {}
  },
  {
   "cell_type": "markdown",
   "source": [
    "---"
   ],
   "metadata": {}
  },
  {
   "cell_type": "markdown",
   "source": [
    "### defaultdict用法示範"
   ],
   "metadata": {}
  },
  {
   "cell_type": "code",
   "execution_count": 5,
   "source": [
    "from collections import defaultdict\r\n",
    "\r\n",
    "mess='This is our first time in Taiwan,,,,, such a beautiful contury'\r\n",
    "\r\n",
    "counts=defaultdict(lambda:[0,0])\r\n",
    "counts['you'][0]+=1\r\n",
    "counts['hi'][0]+=1\r\n",
    "counts['hi'][1]+=2\r\n",
    "counts['no'][1]+=1\r\n",
    "counts['no'][0]+=8\r\n",
    "print('dic : {}'.format(counts))\r\n",
    "print('you : {}'.format(counts['you']))"
   ],
   "outputs": [
    {
     "output_type": "stream",
     "name": "stdout",
     "text": [
      "dic : defaultdict(<function <lambda> at 0x0000020F38ECE670>, {'you': [1, 0], 'hi': [1, 2], 'no': [8, 1]})\n",
      "you : [1, 0]\n"
     ]
    }
   ],
   "metadata": {}
  },
  {
   "cell_type": "markdown",
   "source": [
    "### 創造一個字典，裡面是{'hi': [1, 0]}，對應第一個數字是是垃圾郵件的次數，對應第二個數字是不是垃圾郵件的次數"
   ],
   "metadata": {}
  },
  {
   "cell_type": "code",
   "execution_count": 9,
   "source": [
    "def count_words(training_set):\r\n",
    "    counts=defaultdict(lambda:[0,0])\r\n",
    "    for message,is_spam in training_set:\r\n",
    "        for word in tokenize(message):\r\n",
    "            counts[word][0 if is_spam else 1]+=1\r\n",
    "    return counts"
   ],
   "outputs": [],
   "metadata": {}
  },
  {
   "cell_type": "markdown",
   "source": [
    "---"
   ],
   "metadata": {}
  },
  {
   "cell_type": "markdown",
   "source": [
    "## 計算 p(w|spam) / p(w|non_spam)\n",
    "* 其中K為超參數，為了確保分母/分子皆不為0"
   ],
   "metadata": {}
  },
  {
   "cell_type": "code",
   "execution_count": 10,
   "source": [
    "def word_probabilities(counts,total_spams,total_non_spams,k=0.5):\r\n",
    "    #獲得三組數據，分別為w這個字，p(w|spam)，p(w|non_spam)\r\n",
    "    #counts[w][0]=spam,counts[w][1]=non_spam\r\n",
    "    return [(w,(counts[w][0]+k)/(total_spams+2*k),(counts[w][1]+k)/(total_non_spams+2*k)) for w in counts]"
   ],
   "outputs": [],
   "metadata": {}
  },
  {
   "cell_type": "markdown",
   "source": [
    "---"
   ],
   "metadata": {}
  },
  {
   "cell_type": "markdown",
   "source": [
    "## 計算貝氏結果"
   ],
   "metadata": {}
  },
  {
   "cell_type": "code",
   "execution_count": 12,
   "source": [
    "def spam_probability(word_probs,message, is_spam_probability, is_not_spam_probability):\r\n",
    "    #先把這個mail的文字處理一下\r\n",
    "    message_words=tokenize(message)\r\n",
    "    #初始化值\r\n",
    "    log_prob_if_spam=log_prob_if_not_spam=0.0\r\n",
    "    #將w這個字，p(w|spam)，p(w|non_spam)依序引入\r\n",
    "    for word,prob_if_spam,prob_if_not_spam in word_probs:\r\n",
    "        if word in message_words:\r\n",
    "            #假如這個字有在這個mail中出現\r\n",
    "            #把他的p(w|spam)轉log值加上log_prob_if_spam\r\n",
    "            log_prob_if_spam=log_prob_if_spam+math.log(prob_if_spam)\r\n",
    "            #把他的p(w|non_spam)轉log值加上log_prob_if_not_spam\r\n",
    "            log_prob_if_not_spam=log_prob_if_not_spam+math.log(prob_if_not_spam)\r\n",
    "        else:\r\n",
    "            #如果沒出現log_prob_if_spam➕上得值就是1-p(w|spam)也就是這封信是垃圾郵件但是w這個字卻沒在裡面\r\n",
    "            log_prob_if_spam=log_prob_if_spam+math.log(1-prob_if_spam)\r\n",
    "            log_prob_if_not_spam=log_prob_if_not_spam+math.log(1-prob_if_not_spam)\r\n",
    "    log_prob_if_spam = log_prob_if_spam + math.log(is_spam_probability)\r\n",
    "    log_prob_if_not_spam = log_prob_if_not_spam + math.log(is_not_spam_probability)\r\n",
    "    \r\n",
    "    #把+起來的值轉成exp再算NaiveBayes\r\n",
    "    prob_if_spam=math.exp(log_prob_if_spam)\r\n",
    "    prob_if_not_spam=math.exp(log_prob_if_not_spam)\r\n",
    "    #貝氏\r\n",
    "    return prob_if_spam/(prob_if_spam+prob_if_not_spam)"
   ],
   "outputs": [],
   "metadata": {}
  },
  {
   "cell_type": "markdown",
   "source": [
    "---"
   ],
   "metadata": {}
  },
  {
   "cell_type": "markdown",
   "source": [
    "### 打包整個模型"
   ],
   "metadata": {}
  },
  {
   "cell_type": "code",
   "execution_count": 13,
   "source": [
    "class NaiveBayesClassifier:\r\n",
    "    def __init__(self,k=0.5):\r\n",
    "        self.k=k\r\n",
    "        self.word_probs=[]\r\n",
    "    def train(self,training_set):\r\n",
    "        #訓練的資料格式為(message,is_spam)\r\n",
    "        #所有垃圾郵件的數量\r\n",
    "        num_spams=len([is_spam for message,is_spam in training_set if is_spam])\r\n",
    "        #所有不是垃圾郵件的數量\r\n",
    "        num_non_spams=len(training_set)-num_spams\r\n",
    "        \r\n",
    "        self.is_spam_probability = (num_spams/(num_spams+num_non_spams))\r\n",
    "        self.is_not_spam_probability = (num_non_spams/(num_spams+num_non_spams))\r\n",
    "        #把training_set裡面的所有字體轉成('Bad',num_is_spam,num_not_spam)\r\n",
    "        word_counts=count_words(training_set)\r\n",
    "        self.word_probs=word_probabilities(word_counts,num_spams,num_non_spams,self.k)\r\n",
    "    def classify(self,message):\r\n",
    "        return spam_probability(self.word_probs,message, self.is_spam_probability, self.is_not_spam_probability)"
   ],
   "outputs": [],
   "metadata": {}
  },
  {
   "cell_type": "markdown",
   "source": [
    "---"
   ],
   "metadata": {}
  },
  {
   "cell_type": "markdown",
   "source": [
    "### Fit 訓練集"
   ],
   "metadata": {}
  },
  {
   "cell_type": "code",
   "execution_count": 14,
   "source": [
    "classifier=NaiveBayesClassifier()"
   ],
   "outputs": [],
   "metadata": {}
  },
  {
   "cell_type": "code",
   "execution_count": 15,
   "source": [
    "classifier.train(train_data)"
   ],
   "outputs": [],
   "metadata": {}
  },
  {
   "cell_type": "markdown",
   "source": [
    "### 預測"
   ],
   "metadata": {}
  },
  {
   "cell_type": "code",
   "execution_count": 16,
   "source": [
    "\n",
    "classified=[(subject,is_spam,classifier.classify(subject)) for subject,is_spam in test_data]\n",
    "counts=Counter((is_spam,spam_probability>0.5) for _,is_spam,spam_probability in classified)"
   ],
   "outputs": [],
   "metadata": {}
  },
  {
   "cell_type": "code",
   "execution_count": 17,
   "source": [
    "counts"
   ],
   "outputs": [
    {
     "output_type": "execute_result",
     "data": {
      "text/plain": [
       "Counter({(False, False): 578,\n",
       "         (True, True): 57,\n",
       "         (False, True): 9,\n",
       "         (True, False): 41})"
      ]
     },
     "metadata": {},
     "execution_count": 17
    }
   ],
   "metadata": {}
  },
  {
   "cell_type": "code",
   "execution_count": 25,
   "source": [
    "precision=counts[(True, True)]/(counts[(True, True)]+counts[(False, True)])\n",
    "recall=counts[(True, True)]/(counts[(True, True)]+counts[(True, False)])\n",
    "binary_accuracy = (counts[(True, True)]+counts[(False, False)])/(counts[(False, True)]+counts[(False, False)]+counts[(True, True)]+counts[(True, False)])\n",
    "print('accuracy : {:.2f}%'.format(binary_accuracy*100))\n",
    "print('precision : {:.2f}%'.format(precision*100))\n",
    "print('recall : {:.2f}%'.format(recall*100))"
   ],
   "outputs": [
    {
     "output_type": "stream",
     "name": "stdout",
     "text": [
      "accuracy : 92.70%\n",
      "precision : 86.36%\n",
      "recall : 58.16%\n"
     ]
    }
   ],
   "metadata": {}
  }
 ],
 "metadata": {
  "kernelspec": {
   "name": "python3",
   "display_name": "Python 3.9.6 64-bit"
  },
  "language_info": {
   "codemirror_mode": {
    "name": "ipython",
    "version": 3
   },
   "file_extension": ".py",
   "mimetype": "text/x-python",
   "name": "python",
   "nbconvert_exporter": "python",
   "pygments_lexer": "ipython3",
   "version": "3.9.6"
  },
  "interpreter": {
   "hash": "67019789fca5fcfa1e8e90aaad360222a51a8d5bc2c76577032a0f9c64cf6146"
  }
 },
 "nbformat": 4,
 "nbformat_minor": 2
}