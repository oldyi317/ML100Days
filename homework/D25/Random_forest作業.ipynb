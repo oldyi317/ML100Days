{
 "cells": [
  {
   "cell_type": "markdown",
   "source": [
    "### 作業目的: 了解何謂Bias-Variance Tradeoff"
   ],
   "metadata": {}
  },
  {
   "cell_type": "markdown",
   "source": [
    "### Q1: 一般模型誤差可拆為三部分，這三部分的誤差分別是？\r\n",
    "\r\n",
    "Answer: \r\n",
    "1. generalization error\r\n",
    "2. irreducible error\r\n",
    "3. training error"
   ],
   "metadata": {}
  },
  {
   "cell_type": "markdown",
   "source": [
    "### Q2: 請解釋何謂Bias-Variance Tradeoff\r\n",
    "\r\n",
    "Answer:\r\n",
    "因為模型整體誤差是由**偏差**、**變異**與**隨機誤差**構成，由於隨機誤差是數據本身的誤差，無法對其做調整(跟資料收集的品質相關)，因此要降低模型種體誤差，需要從降低Bias error跟Variance error著手，但這兩種誤差對模型複雜度的表現相反，為了降低Bias而增加模型複雜度(Model complexity)，variance也會隨之變大，而產生overfitting的現象。為了降低variance，而使模型複雜度降低，會導致模型無法將數據擬合得很好，使Bias上升，導致underfitting的現象。\r\n",
    "因此如何找到適當的模型複雜度，在bias與variance間取得平衡，使得總體誤差下降，即是bias-variance tradeoff所要表達的。"
   ],
   "metadata": {}
  }
 ],
 "metadata": {
  "kernelspec": {
   "display_name": "pytorch_env",
   "language": "python",
   "name": "pytorch_env"
  },
  "language_info": {
   "codemirror_mode": {
    "name": "ipython",
    "version": 3
   },
   "file_extension": ".py",
   "mimetype": "text/x-python",
   "name": "python",
   "nbconvert_exporter": "python",
   "pygments_lexer": "ipython3",
   "version": "3.7.3"
  }
 },
 "nbformat": 4,
 "nbformat_minor": 2
}