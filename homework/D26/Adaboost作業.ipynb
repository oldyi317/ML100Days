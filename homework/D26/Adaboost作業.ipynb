{
 "cells": [
  {
   "cell_type": "markdown",
   "source": [
    "### 作業目的:了解Ensemble中的Blending與Stacking"
   ],
   "metadata": {}
  },
  {
   "cell_type": "markdown",
   "source": [
    "### Question: 請描述Blending與Stacking的差異\n",
    "\n",
    "Answer:"
   ],
   "metadata": {}
  },
  {
   "cell_type": "markdown",
   "source": [
    "Stacking使用cross validation來產生訓練2nd level model所需要的訓練資料，而blending是在一開始就將training data切出一部分(holdout)來作為2nd level model的訓練資料。"
   ],
   "metadata": {}
  }
 ],
 "metadata": {
  "kernelspec": {
   "display_name": "pytorch_env",
   "language": "python",
   "name": "pytorch_env"
  },
  "language_info": {
   "codemirror_mode": {
    "name": "ipython",
    "version": 3
   },
   "file_extension": ".py",
   "mimetype": "text/x-python",
   "name": "python",
   "nbconvert_exporter": "python",
   "pygments_lexer": "ipython3",
   "version": "3.7.3"
  }
 },
 "nbformat": 4,
 "nbformat_minor": 2
}