{
 "cells": [
  {
   "cell_type": "markdown",
   "source": [
    "# K-Nearest Neighbors (K-NN)"
   ],
   "metadata": {
    "colab_type": "text",
    "id": "0MRC0e0KhQ0S"
   }
  },
  {
   "cell_type": "markdown",
   "source": [
    "## Importing the libraries"
   ],
   "metadata": {
    "colab_type": "text",
    "id": "LWd1UlMnhT2s"
   }
  },
  {
   "cell_type": "code",
   "execution_count": 1,
   "source": [
    "import numpy as np\r\n",
    "import matplotlib.pyplot as plt\r\n",
    "import pandas as pd\r\n",
    "import os\r\n",
    "import glob\r\n",
    "import codecs\r\n",
    "import re"
   ],
   "outputs": [],
   "metadata": {
    "colab": {},
    "colab_type": "code",
    "id": "YvGPUQaHhXfL"
   }
  },
  {
   "cell_type": "markdown",
   "source": [
    "## Importing the dataset\n",
    "* 從三個資料夾中讀取資料"
   ],
   "metadata": {
    "colab_type": "text",
    "id": "K1VMqkGvhc3-"
   }
  },
  {
   "cell_type": "code",
   "execution_count": 2,
   "source": [
    "all_data=[]\r\n",
    "paths =[r'spam_data/spam', r'spam_data/easy_ham', r'spam_data/hard_ham'] \r\n",
    "for path in paths:\r\n",
    "    for fn in glob.glob(path+\"/*\"):\r\n",
    "        if \"ham\" not in fn:\r\n",
    "            is_spam = 1\r\n",
    "        else:\r\n",
    "            is_spam = 0\r\n",
    "        #codecs.open可以避開錯誤，用errors='ignore'\r\n",
    "        with codecs.open(fn,encoding='utf-8', errors='ignore') as file:\r\n",
    "            for line in file:\r\n",
    "                #這個line的開頭為Subject:\r\n",
    "                if line.startswith(\"Subject:\"):\r\n",
    "                    subject=re.sub(r\"^Subject:\",\"\",line).strip()\r\n",
    "                    all_data.append([subject,is_spam])\r\n",
    "all_data = np.array(all_data)"
   ],
   "outputs": [],
   "metadata": {}
  },
  {
   "cell_type": "markdown",
   "source": [
    "### 取出訓練內文與標註"
   ],
   "metadata": {}
  },
  {
   "cell_type": "code",
   "execution_count": 3,
   "source": [
    "X = all_data[:,0]\r\n",
    "Y = all_data[:,1].astype(np.uint8)"
   ],
   "outputs": [],
   "metadata": {}
  },
  {
   "cell_type": "code",
   "execution_count": 4,
   "source": [
    "print('Training Data Examples : \\n{}'.format(X[:5]))"
   ],
   "outputs": [
    {
     "output_type": "stream",
     "name": "stdout",
     "text": [
      "Training Data Examples : \n",
      "['Life Insurance - Why Pay More?'\n",
      " '[ILUG] Guaranteed to lose 10-12 lbs in 30 days 10.206'\n",
      " 'Guaranteed to lose 10-12 lbs in 30 days                          11.150'\n",
      " 'Re: Fw: User Name & Password to Membership To 5 Sites zzzz@example.com pviqg'\n",
      " '[ILUG-Social] re: Guaranteed to lose 10-12 lbs in 30 days 10.148']\n"
     ]
    }
   ],
   "metadata": {}
  },
  {
   "cell_type": "code",
   "execution_count": 5,
   "source": [
    "print('Labeling Data Examples : \\n{}'.format(Y[:5]))"
   ],
   "outputs": [
    {
     "output_type": "stream",
     "name": "stdout",
     "text": [
      "Labeling Data Examples : \n",
      "[1 1 1 1 1]\n"
     ]
    }
   ],
   "metadata": {}
  },
  {
   "cell_type": "markdown",
   "source": [
    "### 文字預處理\n",
    "* 細節可以參考前面章節"
   ],
   "metadata": {}
  },
  {
   "cell_type": "code",
   "execution_count": 6,
   "source": [
    "from sklearn.metrics import confusion_matrix\r\n",
    "from nltk.corpus import stopwords\r\n",
    "\r\n",
    "import nltk\r\n",
    "\r\n",
    "nltk.download('stopwords')\r\n",
    "\r\n",
    "# Lemmatize with POS Tag\r\n",
    "from nltk.corpus import wordnet\r\n",
    "from nltk.stem import WordNetLemmatizer \r\n",
    "\r\n",
    "## 創建Lemmatizer\r\n",
    "lemmatizer = WordNetLemmatizer() \r\n",
    "def get_wordnet_pos(word):\r\n",
    "    \"\"\"將pos_tag結果mapping到lemmatizer中pos的格式\"\"\"\r\n",
    "    tag = nltk.pos_tag([word])[0][1][0].upper()\r\n",
    "    tag_dict = {\"J\": wordnet.ADJ,\r\n",
    "                \"N\": wordnet.NOUN,\r\n",
    "                \"V\": wordnet.VERB,\r\n",
    "                \"R\": wordnet.ADV}\r\n",
    "\r\n",
    "    return tag_dict.get(tag, wordnet.NOUN)\r\n",
    "\r\n",
    "\r\n",
    "def clean_content(X):\r\n",
    "    # remove non-alphabet characters\r\n",
    "    X_clean = [re.sub('[^a-zA-Z]',' ', x).lower() for x in X]\r\n",
    "    # tokenize\r\n",
    "    X_word_tokenize = [nltk.word_tokenize(x) for x in X_clean]\r\n",
    "    # stopwords_lemmatizer\r\n",
    "    X_stopwords_lemmatizer = []\r\n",
    "    stop_words = set(stopwords.words('english'))\r\n",
    "    for content in X_word_tokenize:\r\n",
    "        content_clean = []\r\n",
    "        for word in content:\r\n",
    "            if word not in stop_words:\r\n",
    "                word = lemmatizer.lemmatize(word, get_wordnet_pos(word))\r\n",
    "                content_clean.append(word)\r\n",
    "        X_stopwords_lemmatizer.append(content_clean)\r\n",
    "    \r\n",
    "    X_output = [' '.join(x) for x in X_stopwords_lemmatizer]\r\n",
    "    \r\n",
    "    return X_output\r\n",
    "                 "
   ],
   "outputs": [
    {
     "output_type": "stream",
     "name": "stderr",
     "text": [
      "[nltk_data] Downloading package stopwords to\n",
      "[nltk_data]     /Users/jeff.yang/nltk_data...\n",
      "[nltk_data]   Package stopwords is already up-to-date!\n"
     ]
    }
   ],
   "metadata": {}
  },
  {
   "cell_type": "code",
   "execution_count": 7,
   "source": [
    "X = clean_content(X)"
   ],
   "outputs": [],
   "metadata": {}
  },
  {
   "cell_type": "markdown",
   "source": [
    "### Bag of words"
   ],
   "metadata": {}
  },
  {
   "cell_type": "code",
   "execution_count": 8,
   "source": [
    "from sklearn.feature_extraction.text import CountVectorizer\n",
    "#max_features是要建造幾個column，會按造字出現的頻率高低去篩選，1500並沒有特別含義，大家可以自己嘗試不同數值或不加入限制\n",
    "cv=CountVectorizer(max_features = 1500)\n",
    "X=cv.fit_transform(X).toarray()"
   ],
   "outputs": [],
   "metadata": {}
  },
  {
   "cell_type": "code",
   "execution_count": 9,
   "source": [
    "# 有 3423個樣本，每個樣本用1500維表示\n",
    "X.shape "
   ],
   "outputs": [
    {
     "output_type": "execute_result",
     "data": {
      "text/plain": [
       "(3423, 1500)"
      ]
     },
     "metadata": {},
     "execution_count": 9
    }
   ],
   "metadata": {}
  },
  {
   "cell_type": "markdown",
   "source": [
    "## 將資料拆成 train/test set"
   ],
   "metadata": {
    "colab_type": "text",
    "id": "YvxIPVyMhmKp"
   }
  },
  {
   "cell_type": "code",
   "execution_count": 10,
   "source": [
    "from sklearn.model_selection import train_test_split\n",
    "# random_state 是為了讓各為學員得到相同的結果，平時可以移除\n",
    "X_train, X_test, y_train, y_test = train_test_split(X, Y, test_size = 0.2, random_state = 0)"
   ],
   "outputs": [],
   "metadata": {
    "colab": {},
    "colab_type": "code",
    "id": "AVzJWAXIhxoC"
   }
  },
  {
   "cell_type": "markdown",
   "source": [
    "## Training the K-NN model on the Training set"
   ],
   "metadata": {
    "colab_type": "text",
    "id": "bb6jCOCQiAmP"
   }
  },
  {
   "cell_type": "code",
   "execution_count": 18,
   "source": [
    "from sklearn.neighbors import KNeighborsClassifier\n",
    "classifier = KNeighborsClassifier(n_neighbors = 5, metric = 'minkowski', p = 2)\n",
    "classifier.fit(X_train, y_train)"
   ],
   "outputs": [
    {
     "output_type": "execute_result",
     "data": {
      "text/plain": [
       "KNeighborsClassifier(algorithm='auto', leaf_size=30, metric='minkowski',\n",
       "                     metric_params=None, n_jobs=None, n_neighbors=5, p=2,\n",
       "                     weights='uniform')"
      ]
     },
     "metadata": {},
     "execution_count": 18
    }
   ],
   "metadata": {
    "colab": {
     "base_uri": "https://localhost:8080/",
     "height": 68
    },
    "colab_type": "code",
    "executionInfo": {
     "elapsed": 2356,
     "status": "ok",
     "timestamp": 1588492962262,
     "user": {
      "displayName": "Hadelin de Ponteves",
      "photoUrl": "https://lh3.googleusercontent.com/a-/AOh14GhEuXdT7eQweUmRPW8_laJuPggSK6hfvpl5a6WBaA=s64",
      "userId": "15047218817161520419"
     },
     "user_tz": -240
    },
    "id": "e0pFVAmciHQs",
    "outputId": "8cb18c23-669b-452a-9bee-b2f96534f0f5"
   }
  },
  {
   "cell_type": "markdown",
   "source": [
    "## 測試 train/testset的 Accuracy"
   ],
   "metadata": {
    "colab_type": "text",
    "id": "yyxW5b395mR2"
   }
  },
  {
   "cell_type": "code",
   "execution_count": 19,
   "source": [
    "print('Trainset Accuracy: {}'.format(classifier.score(X_train, y_train)))"
   ],
   "outputs": [
    {
     "output_type": "stream",
     "name": "stdout",
     "text": [
      "Trainset Accuracy: 0.91672753834916\n"
     ]
    }
   ],
   "metadata": {
    "colab": {
     "base_uri": "https://localhost:8080/",
     "height": 34
    },
    "colab_type": "code",
    "executionInfo": {
     "elapsed": 2351,
     "status": "ok",
     "timestamp": 1588492962263,
     "user": {
      "displayName": "Hadelin de Ponteves",
      "photoUrl": "https://lh3.googleusercontent.com/a-/AOh14GhEuXdT7eQweUmRPW8_laJuPggSK6hfvpl5a6WBaA=s64",
      "userId": "15047218817161520419"
     },
     "user_tz": -240
    },
    "id": "f8YOXsQy58rP",
    "outputId": "e248f6c5-4613-4a9e-faed-093c46defda1"
   }
  },
  {
   "cell_type": "code",
   "execution_count": 20,
   "source": [
    "print('Testset Accuracy: {}'.format(classifier.score(X_test, y_test)))"
   ],
   "outputs": [
    {
     "output_type": "stream",
     "name": "stdout",
     "text": [
      "Testset Accuracy: 0.8875912408759125\n"
     ]
    }
   ],
   "metadata": {}
  },
  {
   "cell_type": "markdown",
   "source": [
    "## 獲得 testset 上的結果"
   ],
   "metadata": {
    "colab_type": "text",
    "id": "vKYVQH-l5NpE"
   }
  },
  {
   "cell_type": "code",
   "execution_count": 22,
   "source": [
    "y_pred = classifier.predict(X_test)"
   ],
   "outputs": [],
   "metadata": {
    "colab": {
     "base_uri": "https://localhost:8080/",
     "height": 1000
    },
    "colab_type": "code",
    "executionInfo": {
     "elapsed": 2345,
     "status": "ok",
     "timestamp": 1588492962263,
     "user": {
      "displayName": "Hadelin de Ponteves",
      "photoUrl": "https://lh3.googleusercontent.com/a-/AOh14GhEuXdT7eQweUmRPW8_laJuPggSK6hfvpl5a6WBaA=s64",
      "userId": "15047218817161520419"
     },
     "user_tz": -240
    },
    "id": "p6VMTb2O4hwM",
    "outputId": "14b859cb-16df-4e5d-894b-3bda8e756d3d"
   }
  },
  {
   "cell_type": "markdown",
   "source": [
    "## Making the Confusion Matrix"
   ],
   "metadata": {
    "colab_type": "text",
    "id": "h4Hwj34ziWQW"
   }
  },
  {
   "cell_type": "code",
   "execution_count": 23,
   "source": [
    "from sklearn.metrics import confusion_matrix, accuracy_score\n",
    "cm = confusion_matrix(y_test, y_pred)\n",
    "print(cm)\n",
    "accuracy_score(y_test, y_pred)"
   ],
   "outputs": [
    {
     "output_type": "stream",
     "name": "stdout",
     "text": [
      "[[581   6]\n",
      " [ 71  27]]\n"
     ]
    },
    {
     "output_type": "execute_result",
     "data": {
      "text/plain": [
       "0.8875912408759125"
      ]
     },
     "metadata": {},
     "execution_count": 23
    }
   ],
   "metadata": {
    "colab": {
     "base_uri": "https://localhost:8080/",
     "height": 68
    },
    "colab_type": "code",
    "executionInfo": {
     "elapsed": 3505,
     "status": "ok",
     "timestamp": 1588492963427,
     "user": {
      "displayName": "Hadelin de Ponteves",
      "photoUrl": "https://lh3.googleusercontent.com/a-/AOh14GhEuXdT7eQweUmRPW8_laJuPggSK6hfvpl5a6WBaA=s64",
      "userId": "15047218817161520419"
     },
     "user_tz": -240
    },
    "id": "D6bpZwUiiXic",
    "outputId": "ec9468d5-c478-4ffa-ba1c-535eb56d7304"
   }
  },
  {
   "cell_type": "markdown",
   "source": [
    "### 運用K-fold尋找適合K值"
   ],
   "metadata": {}
  },
  {
   "cell_type": "code",
   "execution_count": 13,
   "source": [
    "# Applying k-Fold Cross Validation\n",
    "#n-jobs=-1，是指cpu全開\n",
    "from sklearn.model_selection import cross_val_score\n",
    "from sklearn.neighbors import KNeighborsClassifier\n",
    "n_neighbors  = [5, 10, 25, 50, 100] ## 可自行嘗試不同K值\n",
    "for k in n_neighbors:\n",
    "    classifier = KNeighborsClassifier(n_neighbors = k, metric = 'minkowski', p = 2)\n",
    "    # cv = 10 代表切成10等分\n",
    "    accuracies = cross_val_score(estimator = classifier, X = X_train, y = y_train, cv = 10,n_jobs=-1)\n",
    "    \n",
    "    print('設置K值:{}'.format(k))\n",
    "    print('Average Accuracy: {}'.format(accuracies.mean()))\n",
    "    print('Accuracy STD: {}'.format(accuracies.std()))"
   ],
   "outputs": [
    {
     "output_type": "stream",
     "name": "stdout",
     "text": [
      "設置K值:5\n",
      "Average Accuracy: 0.880947378655408\n",
      "Accuracy STD: 0.011561254412983857\n",
      "設置K值:10\n",
      "Average Accuracy: 0.8623193886405567\n",
      "Accuracy STD: 0.006510165116834898\n",
      "設置K值:25\n",
      "Average Accuracy: 0.8528182474459847\n",
      "Accuracy STD: 0.0024837372232837055\n",
      "設置K值:50\n",
      "Average Accuracy: 0.8520856467133839\n",
      "Accuracy STD: 0.0014068907077920568\n",
      "設置K值:100\n",
      "Average Accuracy: 0.8520856467133839\n",
      "Accuracy STD: 0.0014068907077920568\n"
     ]
    }
   ],
   "metadata": {}
  }
 ],
 "metadata": {
  "colab": {
   "authorship_tag": "ABX9TyO/71HmJztjHpR9Q3DXpRZQ",
   "collapsed_sections": [],
   "machine_shape": "hm",
   "name": "k_nearest_neighbors.ipynb",
   "provenance": [],
   "toc_visible": true
  },
  "kernelspec": {
   "name": "python3",
   "display_name": "Python 3.9.6 64-bit"
  },
  "language_info": {
   "codemirror_mode": {
    "name": "ipython",
    "version": 3
   },
   "file_extension": ".py",
   "mimetype": "text/x-python",
   "name": "python",
   "nbconvert_exporter": "python",
   "pygments_lexer": "ipython3",
   "version": "3.9.6"
  },
  "interpreter": {
   "hash": "67019789fca5fcfa1e8e90aaad360222a51a8d5bc2c76577032a0f9c64cf6146"
  }
 },
 "nbformat": 4,
 "nbformat_minor": 1
}