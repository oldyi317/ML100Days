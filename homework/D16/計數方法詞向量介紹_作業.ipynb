{
 "cells": [
  {
   "cell_type": "markdown",
   "source": [
    "## 作業目標: 透過思考與回答以更加了解計數方法的詞向量"
   ],
   "metadata": {}
  },
  {
   "cell_type": "markdown",
   "source": [
    "### 請問詞庫手法會有什麼樣的優缺點？\r\n",
    "\r\n",
    "詞庫手法為創建包含大量字詞的詞庫，將相同意思字詞(同義字)或相似意思字詞(相似字)分類在相同群組。\r\n",
    "\r\n",
    "優點:\r\n",
    "能建立需要的詞彙在詞庫\r\n",
    "\r\n",
    "缺點:\r\n",
    "建立詞庫需要大量人力與時間成本\r\n",
    "無法辨識新產生的詞\r\n",
    "須以人工更新與維護詞庫"
   ],
   "metadata": {}
  },
  {
   "cell_type": "markdown",
   "source": [
    "### 請問共現矩陣有什麼樣的優缺點？ \r\n",
    "\r\n",
    "根據分佈假說，相似的字詞會有類似的上下文，因此我們可以透過計數周圍(window)的字詞來表達特定字詞的向量。\r\n",
    "\r\n",
    "優點:\r\n",
    "考慮了句子中詞的順序\r\n",
    "\r\n",
    "缺點:\r\n",
    "詞表的長度很大，導致詞的向量長度也很大，佔據較多記憶體"
   ],
   "metadata": {}
  },
  {
   "cell_type": "markdown",
   "source": [
    "### 請問為何需要對共現矩陣或PPMI進行SVD降維?\r\n",
    "\r\n",
    "使複雜的模型保有良好的表現\r\n"
   ],
   "metadata": {}
  },
  {
   "cell_type": "markdown",
   "source": [
    "### 實作cosine similarity\r\n",
    "\r\n",
    "在比較兩個詞向量的相似度時可以使用cosine similarity:\r\n",
    "$$\r\n",
    "similarity(x,y) = \\frac{x \\cdot y}{||x||||y||} = \\frac{x_1y_1+...+x_ny_n}{\\sqrt{x_1^2+...+x_n^2}\\sqrt{y_1^2+...+y_n^2}}\r\n",
    "$$\r\n",
    "\r\n",
    "請實作cosine similarity並計算共現矩陣課程範例中you向量([0,1,0,0,0,0,0])與I([0,1,0,1,0,0,0])向量的相似度"
   ],
   "metadata": {}
  },
  {
   "cell_type": "code",
   "execution_count": 1,
   "source": [
    "import numpy as np\r\n",
    "I = np.array([0,1,0,0,0,0,0])\r\n",
    "You = np.array([0,1,0,1,0,0,0])\r\n",
    "\r\n",
    "def cos_similarity(x, y, eps=1e-8):\r\n",
    "    nx = x / np.sqrt(np.sum(x**2) + eps)\r\n",
    "    ny = y / np.sqrt(np.sum(y**2) + eps)\r\n",
    "    return np.dot(nx, ny)\r\n",
    "\r\n",
    "\r\n",
    "print(f\"Similarity: {cos_similarity(I, You)}\")"
   ],
   "outputs": [
    {
     "output_type": "stream",
     "name": "stdout",
     "text": [
      "Similarity: 0.7071067758832467\n"
     ]
    }
   ],
   "metadata": {}
  },
  {
   "cell_type": "code",
   "execution_count": null,
   "source": [],
   "outputs": [],
   "metadata": {}
  }
 ],
 "metadata": {
  "kernelspec": {
   "name": "python3",
   "display_name": "Python 3.9.6 64-bit"
  },
  "language_info": {
   "codemirror_mode": {
    "name": "ipython",
    "version": 3
   },
   "file_extension": ".py",
   "mimetype": "text/x-python",
   "name": "python",
   "nbconvert_exporter": "python",
   "pygments_lexer": "ipython3",
   "version": "3.9.6"
  },
  "interpreter": {
   "hash": "67019789fca5fcfa1e8e90aaad360222a51a8d5bc2c76577032a0f9c64cf6146"
  }
 },
 "nbformat": 4,
 "nbformat_minor": 2
}