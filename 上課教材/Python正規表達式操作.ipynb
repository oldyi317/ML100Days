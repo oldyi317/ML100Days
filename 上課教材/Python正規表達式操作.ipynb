{
 "cells": [
  {
   "cell_type": "markdown",
   "source": [
    "## 利用Python re 模組來進行正規表達式配對\n",
    "\n",
    "在先前課程中所學的Regular Expression(正規表達式),是可以匹配文字片段的一種模式。要使用Regex來處理字串,我們必須要使用支援Regex的工具。而在Python中的re模組就是專們用來支援處理Regex的模組工具。"
   ],
   "metadata": {}
  },
  {
   "cell_type": "markdown",
   "source": [
    "### Python 字串前綴\n",
    "\n",
    "在正規表達式中，我們常會使用到反斜線(`\\`)來表達一些特殊配對，像是 `\\w: 配對任何數字字母底線`、`\\b: 字詞字元邊界`、`\\s: 任何空白字元` 等等。但在Python中，反斜線(`\\`)會被當作是特殊符號得跳脫字元，像是`\\n`代表換行，加上跳脫字元後`\\\\n`即代表一般`\\n`符號。 \n",
    "\n",
    "為了避免字串中出現過多的反斜線，進而導致難以維護正規表達式的配對，因此我們可以使用原始字串前綴`r\"str\"`。 因此`r\"\\n\" == \"\\\\n\"`。\n",
    "\n",
    "因此為了避免出現特殊符號問題，習慣上我們會將正規表達式的模式對象加上字串前綴。(ex: `r\"\\W\\.\\D\"`)"
   ],
   "metadata": {}
  },
  {
   "cell_type": "code",
   "execution_count": 44,
   "source": [
    "# 請注意以下的打印差異\r\n",
    "print('this is \\n a test') #換行\r\n",
    "print('----分隔線----')\r\n",
    "print('this is \\\\n a test') #反斜線跳脫字元\r\n",
    "print('----分隔線----')\r\n",
    "print(r'this is \\n a test') #原始字串"
   ],
   "outputs": [
    {
     "output_type": "stream",
     "name": "stdout",
     "text": [
      "this is \n",
      " a test\n",
      "----分隔線----\n",
      "this is \\n a test\n",
      "----分隔線----\n",
      "this is \\n a test\n"
     ]
    }
   ],
   "metadata": {}
  },
  {
   "cell_type": "markdown",
   "source": [
    "### 建立模式對象(Pattern Object)\n",
    "\n",
    "* `re.compile(pattern, flags=0)`\n",
    "\n",
    "將正規表達式轉為**pattern object**的模式對象。以此方法將其保存下來供後續之用。\n",
    "(但其實這樣的做法是非必要的，詳情請參考延伸閱讀一)\n",
    "(ref: https://codertw.com/%E7%A8%8B%E5%BC%8F%E8%AA%9E%E8%A8%80/656506/)"
   ],
   "metadata": {}
  },
  {
   "cell_type": "code",
   "execution_count": 1,
   "source": [
    "###使用前章節的電子郵件配對為例###\r\n",
    "\r\n",
    "#導入re模組\r\n",
    "import re\r\n",
    "\r\n",
    "#欲配對文本\r\n",
    "txt = \"SaveTheWorld@hotmail.com \\n foobar@gmail.com\"\r\n",
    "\r\n",
    "#建立模式對象\r\n",
    "pattern_obj = re.compile(pattern=r\"(.*)@(?!gmail)\\w+\\.com\")\r\n",
    "#進行配對(請注意這裡是使用pattern.search配對)\r\n",
    "x1 = pattern_obj.search(txt) #先別擔心re.research的作用(後續會說明)\r\n",
    "print(x1.group())"
   ],
   "outputs": [
    {
     "output_type": "stream",
     "name": "stdout",
     "text": [
      "SaveTheWorld@hotmail.com\n"
     ]
    }
   ],
   "metadata": {}
  },
  {
   "cell_type": "code",
   "execution_count": 2,
   "source": [
    "#不使用模式對象\r\n",
    "#我們也可以不建立模式對象,直接使用正規表達式配對\r\n",
    "\r\n",
    "#遇配對文本\r\n",
    "txt = \"SaveTheWorld@hotmail.com \\n foobar@gmail.com\"\r\n",
    "pattern = r\"(.*)@(?!gmail)\\w+\\.com\" #這裡使用原始字串作為配對\r\n",
    "#進行配對(請注意這裡是使用re.search配對)\r\n",
    "x2 = re.search(pattern, txt)\r\n",
    "print(x2.group())"
   ],
   "outputs": [
    {
     "output_type": "stream",
     "name": "stdout",
     "text": [
      "SaveTheWorld@hotmail.com\n"
     ]
    }
   ],
   "metadata": {}
  },
  {
   "cell_type": "markdown",
   "source": [
    "### re.search(pattern, string, flags=0)\n",
    "\n",
    "掃描字符串，查詢匹配正規表達式模式的位置，返回**MatchObject**的物件實例。若沒有可匹配的位置，則返回**None**。\n",
    "\n",
    "若有多個可配對位置，只有第一個配對成功的會返回。"
   ],
   "metadata": {}
  },
  {
   "cell_type": "code",
   "execution_count": 3,
   "source": [
    "###使用前章節的電子郵件配對為例###\r\n",
    "\r\n",
    "#欲配對文本\r\n",
    "txt = \"SaveTheWorld@hotmail.com \\n foobar@gmail.com \\n zzzGroup@yahoo.com\" #這裡我們新增一個email address\r\n",
    "pattern = r\".*@(?!gmail)\\w+\\.com\" #這裡使用原始字串作為配對\r\n",
    "\r\n",
    "#進行配對\r\n",
    "match = re.search(pattern, txt)\r\n",
    "print(type(match)) #顯示為re.Match 物件實例\r\n",
    "print(match)\r\n",
    "\r\n",
    "print('\\n----分隔線----')\r\n",
    "print(f'Match start: {match.start()}; Match end: {match.end()}') #使用.start(), .end()返回配對的起點與終點\r\n",
    "\r\n",
    "print('\\n----分隔線----')\r\n",
    "print(f'Match text: {match.group()}') #使用.group() or .group(0)返回配對的字串\r\n",
    "\r\n",
    "#可以由返回的結果發現, re.search()只返回第一個配對的對象, 最後一個email address也符合配對但沒有返回"
   ],
   "outputs": [
    {
     "output_type": "stream",
     "name": "stdout",
     "text": [
      "<class 're.Match'>\n",
      "<re.Match object; span=(0, 24), match='SaveTheWorld@hotmail.com'>\n",
      "\n",
      "----分隔線----\n",
      "Match start: 0; Match end: 24\n",
      "\n",
      "----分隔線----\n",
      "Match text: SaveTheWorld@hotmail.com\n"
     ]
    }
   ],
   "metadata": {}
  },
  {
   "cell_type": "code",
   "execution_count": 4,
   "source": [
    "#若無可滿足配對, re.search會返回None\r\n",
    "txt = \"foobar@gmail.com\" #這裡只保留不滿足配對的email\r\n",
    "pattern = r\".*@(?!gmail)\\w+\\.com\" \r\n",
    "match = re.search(pattern, txt)\r\n",
    "print(match)"
   ],
   "outputs": [
    {
     "output_type": "stream",
     "name": "stdout",
     "text": [
      "None\n"
     ]
    }
   ],
   "metadata": {}
  },
  {
   "cell_type": "markdown",
   "source": [
    "### re.match(pattern, string, flags=0)\n",
    "\n",
    "從字串開始的位置進行配對，只會配對字串開頭，若配對成功則返回**Match**的物件實例。若失敗則返回**None**。"
   ],
   "metadata": {}
  },
  {
   "cell_type": "code",
   "execution_count": 5,
   "source": [
    "###使用前章節的電子郵件配對為例###\r\n",
    "\r\n",
    "#欲配對文本\r\n",
    "txt = \"SaveTheWorld@hotmail.com \\n foobar@gmail.com \\n zzzGroup@yahoo.com\" \r\n",
    "pattern = r\".*@(?!gmail)\\w+\\.com\" #這裡使用原始字串作為配對\r\n",
    "\r\n",
    "#進行配對\r\n",
    "match = re.match(pattern, txt)\r\n",
    "print(type(match)) #顯示為re.Match 物件實例\r\n",
    "print(match)\r\n",
    "\r\n",
    "print('\\n----分隔線----')\r\n",
    "print(f'Match start: {match.start()}; Match end: {match.end()}') #使用.start(), .end()返回配對的起點與終點\r\n",
    "\r\n",
    "print('\\n----分隔線----')\r\n",
    "print(f'Match text: {match.group()}') #使用.group() or .group(0)返回配對的字串\r\n",
    "\r\n",
    "#發現第一個開頭配對成功後返回Match物件實例"
   ],
   "outputs": [
    {
     "output_type": "stream",
     "name": "stdout",
     "text": [
      "<class 're.Match'>\n",
      "<re.Match object; span=(0, 24), match='SaveTheWorld@hotmail.com'>\n",
      "\n",
      "----分隔線----\n",
      "Match start: 0; Match end: 24\n",
      "\n",
      "----分隔線----\n",
      "Match text: SaveTheWorld@hotmail.com\n"
     ]
    }
   ],
   "metadata": {}
  },
  {
   "cell_type": "code",
   "execution_count": 6,
   "source": [
    "#若開頭無法配對成功，即返回None\r\n",
    "txt = \"foobar@gmail.com \\n SaveTheWorld@hotmail.com \\n zzzGroup@yahoo.com\" #這裡我們將不符合配對的email移到字串開頭\r\n",
    "pattern = r\".*@(?!gmail)\\w+\\.com\" \r\n",
    "match = re.match(pattern, txt)\r\n",
    "print(match)"
   ],
   "outputs": [
    {
     "output_type": "stream",
     "name": "stdout",
     "text": [
      "None\n"
     ]
    }
   ],
   "metadata": {}
  },
  {
   "cell_type": "markdown",
   "source": [
    "### re.findall(pattern, string, flags=0)\n",
    "掃描字符串，找到正規表達式所配對的**所有**子串，並組成一個列表(list)返回。若沒有配對成功，則返回空列表(list)。"
   ],
   "metadata": {}
  },
  {
   "cell_type": "code",
   "execution_count": 7,
   "source": [
    "###使用前章節的電子郵件配對為例###\r\n",
    "\r\n",
    "#欲配對文本\r\n",
    "txt = \"SaveTheWorld@hotmail.com \\n foobar@gmail.com \\n zzzGroup@yahoo.com\" \r\n",
    "pattern = r\".*@(?!gmail)\\w+\\.com\" #這裡使用原始字串作為配對\r\n",
    "\r\n",
    "#進行配對\r\n",
    "match = re.findall(pattern, txt)\r\n",
    "print(type(match)) #list 物件實力\r\n",
    "print(match)"
   ],
   "outputs": [
    {
     "output_type": "stream",
     "name": "stdout",
     "text": [
      "<class 'list'>\n",
      "['SaveTheWorld@hotmail.com', ' zzzGroup@yahoo.com']\n"
     ]
    }
   ],
   "metadata": {}
  },
  {
   "cell_type": "code",
   "execution_count": 8,
   "source": [
    "###使用前章節的電子郵件配對為例###\r\n",
    "\r\n",
    "#欲配對文本\r\n",
    "txt = \"SaveTheWorld@hotmail.com \\n foobar@gmail.com \\n zzzGroup@yahoo.com\"\r\n",
    "pattern = r\"(.*)@(?!gmail)(\\w+)\\.com\" #將.* 改為 group的形式(.*), 且 \\w+ 改為 (\\w+)\r\n",
    "\r\n",
    "#進行配對\r\n",
    "match = re.findall(pattern, txt)\r\n",
    "print(type(match)) \r\n",
    "print(match)\r\n",
    "\r\n",
    "#可以發現返回的list變成符合配對的email裡面的group字串"
   ],
   "outputs": [
    {
     "output_type": "stream",
     "name": "stdout",
     "text": [
      "<class 'list'>\n",
      "[('SaveTheWorld', 'hotmail'), (' zzzGroup', 'yahoo')]\n"
     ]
    }
   ],
   "metadata": {}
  },
  {
   "cell_type": "markdown",
   "source": [
    "### re.finditer(pattern, string, flags=0)\n",
    "和findall類似, 在字符串中找尋正規表達式可以匹配的所有子字串，並返回一個迭代器(iterator)。"
   ],
   "metadata": {}
  },
  {
   "cell_type": "code",
   "execution_count": 9,
   "source": [
    "###使用前章節的電子郵件配對為例###\n",
    "\n",
    "#欲配對文本\n",
    "txt = \"SaveTheWorld@hotmail.com \\n foobar@gmail.com \\n zzzGroup@yahoo.com\" \n",
    "pattern = r\".*@(?!gmail)\\w+\\.com\" #這裡使用原始字串作為配對\n",
    "\n",
    "#進行配對\n",
    "match = re.finditer(pattern, txt)\n",
    "print(type(match)) #iterator 物件實例\n",
    "print('\\n----分隔線----')\n",
    "for ma in match:\n",
    "    print(ma)\n",
    "    print(f'Match start: {ma.start()}; Match end: {ma.end()}') #使用.start(), .end()返回配對的起點與終點\n",
    "    print(f'Match text: {ma.group()}') #使用.group() or .group(0)返回配對的字串\n",
    "    print('\\n----分隔線----')"
   ],
   "outputs": [
    {
     "output_type": "stream",
     "name": "stdout",
     "text": [
      "<class 'callable_iterator'>\n",
      "\n",
      "----分隔線----\n",
      "<re.Match object; span=(0, 24), match='SaveTheWorld@hotmail.com'>\n",
      "Match start: 0; Match end: 24\n",
      "Match text: SaveTheWorld@hotmail.com\n",
      "\n",
      "----分隔線----\n",
      "<re.Match object; span=(45, 64), match=' zzzGroup@yahoo.com'>\n",
      "Match start: 45; Match end: 64\n",
      "Match text:  zzzGroup@yahoo.com\n",
      "\n",
      "----分隔線----\n"
     ]
    }
   ],
   "metadata": {}
  },
  {
   "cell_type": "markdown",
   "source": [
    "### re.sub(pattern, repl, string, count=0, flags=0)\n",
    "在字符串中找到正規表達式匹配的子字串，使用另外一個字串repl替換匹配的字串。若沒有可匹配的字串，即返回未被修改的原始字串。\n",
    "\n",
    "count變數可以用來指定要替代的次數，如果count是0(預設值)，所有成功配對的都修改。"
   ],
   "metadata": {}
  },
  {
   "cell_type": "code",
   "execution_count": 10,
   "source": [
    "###使用前章節的電子郵件配對為例###\n",
    "\n",
    "#欲配對文本\n",
    "txt = \"SaveTheWorld@hotmail.com \\n foobar@gmail.com \\n zzzGroup@yahoo.com\" \n",
    "pattern = r\".*@(?!gmail)\\w+\\.com\" #這裡使用原始字串作為配對\n",
    "\n",
    "#進行配對\n",
    "match = re.sub(pattern, 'REPLACE', txt, count=0)\n",
    "match #配對到的email都修改為REPLACE"
   ],
   "outputs": [
    {
     "output_type": "execute_result",
     "data": {
      "text/plain": [
       "'REPLACE \\n foobar@gmail.com \\nREPLACE'"
      ]
     },
     "metadata": {},
     "execution_count": 10
    }
   ],
   "metadata": {}
  },
  {
   "cell_type": "code",
   "execution_count": 11,
   "source": [
    "###使用前章節的電子郵件配對為例###\n",
    "\n",
    "#欲配對文本\n",
    "txt = \"SaveTheWorld@hotmail.com \\n foobar@gmail.com \\n zzzGroup@yahoo.com\" \n",
    "pattern = r\".*@(?!gmail)\\w+\\.com\" #這裡使用原始字串作為配對\n",
    "\n",
    "#進行配對\n",
    "match = re.sub(pattern, 'REPLACE', txt, count=1) #將count設為1\n",
    "match #只有一個配對到的修改為REPLACE"
   ],
   "outputs": [
    {
     "output_type": "execute_result",
     "data": {
      "text/plain": [
       "'REPLACE \\n foobar@gmail.com \\n zzzGroup@yahoo.com'"
      ]
     },
     "metadata": {},
     "execution_count": 11
    }
   ],
   "metadata": {}
  },
  {
   "cell_type": "markdown",
   "source": [
    "### re.subn(pattern, repl, string, count=0, flags=0) \n",
    "功能與`re.sub()`基本上相同，但在返回值時會同時返回新的字符串與替換次數。"
   ],
   "metadata": {}
  },
  {
   "cell_type": "code",
   "execution_count": 12,
   "source": [
    "###使用前章節的電子郵件配對為例###\n",
    "\n",
    "#欲配對文本\n",
    "txt = \"SaveTheWorld@hotmail.com \\n foobar@gmail.com \\n zzzGroup@yahoo.com\" \n",
    "pattern = r\".*@(?!gmail)\\w+\\.com\" #這裡使用原始字串作為配對\n",
    "\n",
    "#進行配對\n",
    "match = re.subn(pattern, 'REPLACE', txt, count=0)\n",
    "match #可以發現一共配對替換2次"
   ],
   "outputs": [
    {
     "output_type": "execute_result",
     "data": {
      "text/plain": [
       "('REPLACE \\n foobar@gmail.com \\nREPLACE', 2)"
      ]
     },
     "metadata": {},
     "execution_count": 12
    }
   ],
   "metadata": {}
  },
  {
   "cell_type": "code",
   "execution_count": 13,
   "source": [
    "###使用前章節的電子郵件配對為例###\n",
    "\n",
    "#欲配對文本\n",
    "txt = \"SaveTheWorld@hotmail.com \\n foobar@gmail.com \\n zzzGroup@yahoo.com\" \n",
    "pattern = r\".*@(?!gmail)\\w+\\.com\" #這裡使用原始字串作為配對\n",
    "\n",
    "#進行配對\n",
    "match = re.subn(pattern, 'REPLACE', txt, count=1) #將count設為1\n",
    "match #只配對替換1次"
   ],
   "outputs": [
    {
     "output_type": "execute_result",
     "data": {
      "text/plain": [
       "('REPLACE \\n foobar@gmail.com \\n zzzGroup@yahoo.com', 1)"
      ]
     },
     "metadata": {},
     "execution_count": 13
    }
   ],
   "metadata": {}
  },
  {
   "cell_type": "markdown",
   "source": [
    "### re.split(pattern, string, maxsplit=0, flags=0)\n",
    "利用正規表達式將成功配對的字串部分分割為一個列表，並返回分割後的列表。\n",
    "其中`maxsplit`是用來指定最多切割多少份，若是0(預設值)，則所有配對成功的都會進行切割。"
   ],
   "metadata": {}
  },
  {
   "cell_type": "code",
   "execution_count": 14,
   "source": [
    "###使用前章節的電子郵件配對為例###\n",
    "\n",
    "#欲配對文本\n",
    "txt = \"SaveTheWorld@hotmail.com \\n foobar@gmail.com \\n zzzGroup@yahoo.com\" \n",
    "pattern = r\"\\n\" #這裡改為配對換行符號\n",
    "\n",
    "#進行配對\n",
    "match = re.split(pattern, txt)\n",
    "match"
   ],
   "outputs": [
    {
     "output_type": "execute_result",
     "data": {
      "text/plain": [
       "['SaveTheWorld@hotmail.com ', ' foobar@gmail.com ', ' zzzGroup@yahoo.com']"
      ]
     },
     "metadata": {},
     "execution_count": 14
    }
   ],
   "metadata": {}
  },
  {
   "cell_type": "code",
   "execution_count": 15,
   "source": [
    "###使用前章節的電子郵件配對為例###\n",
    "\n",
    "#欲配對文本\n",
    "txt = \"SaveTheWorld@hotmail.com \\n foobar@gmail.com \\n zzzGroup@yahoo.com\" \n",
    "pattern = r\"\\n\" #這裡改為配對換行符號\n",
    "\n",
    "#進行配對\n",
    "match = re.split(pattern, txt, maxsplit=1) #設定最多只配對分割一組\n",
    "match"
   ],
   "outputs": [
    {
     "output_type": "execute_result",
     "data": {
      "text/plain": [
       "['SaveTheWorld@hotmail.com ', ' foobar@gmail.com \\n zzzGroup@yahoo.com']"
      ]
     },
     "metadata": {},
     "execution_count": 15
    }
   ],
   "metadata": {}
  },
  {
   "cell_type": "markdown",
   "source": [
    "### flags參數\n",
    "\n",
    "此參數可以控制匹配模式，大部分的匹配模式都可以直接使用正規表達式的規則寫出，但此參數提供我們更方便的方法來控制匹配模式。例如:\n",
    "\n",
    "* re.I (re.IGNORECASE): 忽略大小寫模式\n",
    "* re.M (re.MULTILINE): 多行模式\n",
    "* re.S (re.DOTALL): 讓`.`可以匹配所有的字元 (原本`.`無法匹配換行字元)\n",
    "\n",
    "可以使用`|`來結合多種模式"
   ],
   "metadata": {}
  },
  {
   "cell_type": "code",
   "execution_count": 16,
   "source": [
    "###re.IGNORECASE###\n",
    "\n",
    "#欲配對文本\n",
    "txt = \"Leo123 \\nkevin456 \\n\"\n",
    "pattern = r\"[a-z]+\" #配對所有小寫a-z字符 \n",
    "\n",
    "#進行配對_1\n",
    "match = re.findall(pattern, txt) #使用預設的一般配對模式\n",
    "print(type(match)) \n",
    "print(match)\n",
    "#可以發現無法配對大寫的L\n",
    "\n",
    "print('\\n----分隔線----')\n",
    "\n",
    "#進行配對_2\n",
    "match2 = re.findall(pattern, txt, flags=re.I)\n",
    "print(type(match)) \n",
    "print(match2)\n",
    "#可以發現再加上 re.I後, 可以互略大小寫的配對"
   ],
   "outputs": [
    {
     "output_type": "stream",
     "name": "stdout",
     "text": [
      "<class 'list'>\n",
      "['eo', 'kevin']\n",
      "\n",
      "----分隔線----\n",
      "<class 'list'>\n",
      "['Leo', 'kevin']\n"
     ]
    }
   ],
   "metadata": {}
  },
  {
   "cell_type": "code",
   "execution_count": 17,
   "source": [
    "###re.MULTILINE###\n",
    "\n",
    "#欲配對文本\n",
    "txt = \"Leo123 \\nkevin456 \\n\"\n",
    "pattern = r\"^[a-zA-Z]+\" #配對所有開頭是a-z或是A-Z的字元\n",
    "\n",
    "#進行配對_1\n",
    "match = re.findall(pattern, txt) #使用預設的一般配對模式\n",
    "print(type(match)) \n",
    "print(match)\n",
    "#可以發現只配對到Leo (因為在一般配對模式下, 文本被視為一個含有\\n的長字串)\n",
    "\n",
    "print('\\n----分隔線----')\n",
    "\n",
    "#進行配對_2\n",
    "match2 = re.findall(pattern, txt, flags=re.M) #使用多行配對模式\n",
    "print(type(match)) \n",
    "print(match2)\n",
    "#可以發現加上re.M後，可以配對到Leo, Kevin (因為在\\n換行符號後會視為新的字串來配對)"
   ],
   "outputs": [
    {
     "output_type": "stream",
     "name": "stdout",
     "text": [
      "<class 'list'>\n",
      "['Leo']\n",
      "\n",
      "----分隔線----\n",
      "<class 'list'>\n",
      "['Leo', 'kevin']\n"
     ]
    }
   ],
   "metadata": {}
  },
  {
   "cell_type": "code",
   "execution_count": 18,
   "source": [
    "###re.DOTALL###\n",
    "\n",
    "#欲配對文本\n",
    "txt = \"Leo123 \\nkevin456 \\n\"\n",
    "pattern = r\".+\" #配對所有開頭是a-z或是A-Z的字元\n",
    "\n",
    "#進行配對_1\n",
    "match = re.findall(pattern, txt) #使用預設的一般配對模式\n",
    "print(type(match)) \n",
    "print(match)\n",
    "#配對的內容不包含\\n字串\n",
    "\n",
    "print('\\n----分隔線----')\n",
    "\n",
    "#進行配對_2\n",
    "match2 = re.findall(pattern, txt, flags=re.S) #使用DOTALL配對模式\n",
    "print(type(match)) \n",
    "print(match2)\n",
    "#這樣配對也包含了\\n換行符號"
   ],
   "outputs": [
    {
     "output_type": "stream",
     "name": "stdout",
     "text": [
      "<class 'list'>\n",
      "['Leo123 ', 'kevin456 ']\n",
      "\n",
      "----分隔線----\n",
      "<class 'list'>\n",
      "['Leo123 \\nkevin456 \\n']\n"
     ]
    }
   ],
   "metadata": {}
  },
  {
   "cell_type": "code",
   "execution_count": 19,
   "source": [
    "###結合多種配對模式 (re.I|re.M)###\n",
    "\n",
    "#欲配對文本\n",
    "txt = \"Leo123 \\nkevin456 \\n\"\n",
    "pattern = r\"^[a-z]+\" #配對所有開頭是a-z\n",
    "\n",
    "#進行配對_1\n",
    "match = re.findall(pattern, txt) #使用預設的一般配對模式\n",
    "print(type(match)) \n",
    "print(match)\n",
    "#一般模式下，找不到可配對字串\n",
    "\n",
    "print('\\n----分隔線----')\n",
    "\n",
    "#進行配對_2\n",
    "match2 = re.findall(pattern, txt, flags=re.I|re.M) #使用多行配對模式\n",
    "print(type(match)) \n",
    "print(match2)\n",
    "#可以發現加上re.I|re.M後，可以配對到Leo, kevin"
   ],
   "outputs": [
    {
     "output_type": "stream",
     "name": "stdout",
     "text": [
      "<class 'list'>\n",
      "[]\n",
      "\n",
      "----分隔線----\n",
      "<class 'list'>\n",
      "['Leo', 'kevin']\n"
     ]
    }
   ],
   "metadata": {}
  },
  {
   "cell_type": "markdown",
   "source": [
    "### Reference:\n",
    "\n",
    "https://regexone.com/references/python\n",
    "\n",
    "https://www.w3schools.com/python/python_regex.asp#findall\n",
    "\n",
    "https://docs.python.org/3.6/library/re.html#re.IGNORECASE (更多的flags模式)\n",
    "\n",
    "https://chrisalbon.com/python/data_wrangling/regex_by_example/\n",
    "\n",
    "https://chrisalbon.com/python/data_wrangling/regular_expressions_basics/"
   ],
   "metadata": {}
  },
  {
   "cell_type": "code",
   "execution_count": null,
   "source": [],
   "outputs": [],
   "metadata": {}
  }
 ],
 "metadata": {
  "kernelspec": {
   "name": "python3",
   "display_name": "Python 3.9.6 64-bit"
  },
  "language_info": {
   "codemirror_mode": {
    "name": "ipython",
    "version": 3
   },
   "file_extension": ".py",
   "mimetype": "text/x-python",
   "name": "python",
   "nbconvert_exporter": "python",
   "pygments_lexer": "ipython3",
   "version": "3.9.6"
  },
  "interpreter": {
   "hash": "67019789fca5fcfa1e8e90aaad360222a51a8d5bc2c76577032a0f9c64cf6146"
  }
 },
 "nbformat": 4,
 "nbformat_minor": 2
}